{
 "cells": [
  {
   "cell_type": "markdown",
   "id": "b6bf1fcc",
   "metadata": {},
   "source": [
    "# LangGraph (LangChain + Graph)\n",
    "\n",
    "- It’s a framework to build stateful, multi-step AI applications using graphs. \n",
    "- Creating flows (like a diagram) for how your AI app should behave — what should happen first, then what next, and so on."
   ]
  },
  {
   "cell_type": "markdown",
   "id": "97e27ca7",
   "metadata": {},
   "source": [
    "Langgraph:\n",
    "Nodes - Edges - State\n",
    "\n",
    "Node Implementaiton > Transcript\n",
    "Edges\n",
    "State > Variable\n",
    "\n",
    "Graph API - Functional API"
   ]
  },
  {
   "cell_type": "code",
   "execution_count": 38,
   "id": "4c6cb811",
   "metadata": {},
   "outputs": [],
   "source": [
    "from typing import Annotated\n",
    "from typing_extensions import TypedDict\n",
    "from langgraph.graph import StateGraph, START, END\n",
    "from langgraph.graph.message import add_messages # reducer: add message"
   ]
  },
  {
   "cell_type": "code",
   "execution_count": 39,
   "id": "74645907",
   "metadata": {},
   "outputs": [],
   "source": [
    "class State(TypedDict):\n",
    "    messages:Annotated[list,add_messages] # reducer: not replacing but append"
   ]
  },
  {
   "cell_type": "code",
   "execution_count": 40,
   "id": "4252a2bb",
   "metadata": {},
   "outputs": [],
   "source": [
    "# build Graph\n",
    "graph_builder = StateGraph(State)"
   ]
  },
  {
   "cell_type": "code",
   "execution_count": 41,
   "id": "71f9447b",
   "metadata": {},
   "outputs": [
    {
     "data": {
      "text/plain": [
       "<langgraph.graph.state.StateGraph at 0x21f591fafd0>"
      ]
     },
     "execution_count": 41,
     "metadata": {},
     "output_type": "execute_result"
    }
   ],
   "source": [
    "graph_builder"
   ]
  },
  {
   "cell_type": "code",
   "execution_count": 42,
   "id": "a4b40e9b",
   "metadata": {},
   "outputs": [
    {
     "data": {
      "text/plain": [
       "True"
      ]
     },
     "execution_count": 42,
     "metadata": {},
     "output_type": "execute_result"
    }
   ],
   "source": [
    "# load env\n",
    "import os\n",
    "from dotenv import load_dotenv\n",
    "load_dotenv()"
   ]
  },
  {
   "cell_type": "code",
   "execution_count": 43,
   "id": "11f4e32e",
   "metadata": {},
   "outputs": [],
   "source": [
    "from langchain_groq import ChatGroq\n",
    "# from langchain.chat_models import init_chat_model\n",
    "\n",
    "llm  = ChatGroq(model=\"llama3-8b-8192\")\n",
    "# llm = init_chat_model(\"groq:llama3-8b-8192\")"
   ]
  },
  {
   "cell_type": "code",
   "execution_count": 44,
   "id": "dd08e7cd",
   "metadata": {},
   "outputs": [
    {
     "data": {
      "text/plain": [
       "ChatGroq(client=<groq.resources.chat.completions.Completions object at 0x0000021F5B3C6310>, async_client=<groq.resources.chat.completions.AsyncCompletions object at 0x0000021F5B3C5990>, model_name='llama3-8b-8192', model_kwargs={}, groq_api_key=SecretStr('**********'))"
      ]
     },
     "execution_count": 44,
     "metadata": {},
     "output_type": "execute_result"
    }
   ],
   "source": [
    "llm"
   ]
  },
  {
   "cell_type": "code",
   "execution_count": 45,
   "id": "6fac7ca1",
   "metadata": {},
   "outputs": [],
   "source": [
    "# Node\n",
    "def chatbot(state:State):\n",
    "    return {\n",
    "        \"messages\": [llm.invoke(state[\"messages\"])]\n",
    "    }"
   ]
  },
  {
   "cell_type": "code",
   "execution_count": 46,
   "id": "47e7a32b",
   "metadata": {},
   "outputs": [],
   "source": [
    "graph_builder = StateGraph(State)\n",
    "\n",
    "node = \"llmchatbot\"\n",
    "\n",
    "graph_builder.add_node(node, chatbot) \n",
    "\n",
    "graph_builder.add_edge(START,node)\n",
    "graph_builder.add_edge(node,END)\n",
    "\n",
    "# Compile\n",
    "graph=graph_builder.compile()"
   ]
  },
  {
   "cell_type": "code",
   "execution_count": 47,
   "id": "e08dbd27",
   "metadata": {},
   "outputs": [
    {
     "data": {
      "image/png": "[encoded data removed]",
      "text/plain": [
       "<IPython.core.display.Image object>"
      ]
     },
     "metadata": {},
     "output_type": "display_data"
    }
   ],
   "source": [
    "# Visualize\n",
    "from IPython.display import Image, display\n",
    "try:\n",
    "    display(Image(graph.get_graph().draw_mermaid_png()))\n",
    "except Exception:\n",
    "    pass\n"
   ]
  },
  {
   "cell_type": "code",
   "execution_count": 48,
   "id": "8a280b9d",
   "metadata": {},
   "outputs": [],
   "source": [
    "response = graph.invoke({\"messages\":\"Hello World\"})"
   ]
  },
  {
   "cell_type": "code",
   "execution_count": 49,
   "id": "8cd32591",
   "metadata": {},
   "outputs": [
    {
     "data": {
      "text/plain": [
       "[HumanMessage(content='Hello World', additional_kwargs={}, response_metadata={}, id='11643859-86b9-438f-8363-94657f4b7649'),\n",
       " AIMessage(content='Hello World!', additional_kwargs={}, response_metadata={'token_usage': {'completion_tokens': 4, 'prompt_tokens': 12, 'total_tokens': 16, 'completion_time': 0.008861341, 'prompt_time': 0.006459605, 'queue_time': 10.233362326, 'total_time': 0.015320946}, 'model_name': 'llama3-8b-8192', 'system_fingerprint': 'fp_8dc6ecaf8e', 'finish_reason': 'stop', 'logprobs': None}, id='run--26f71fb3-e7ec-484e-977f-94e76091ebbb-0', usage_metadata={'input_tokens': 12, 'output_tokens': 4, 'total_tokens': 16})]"
      ]
     },
     "execution_count": 49,
     "metadata": {},
     "output_type": "execute_result"
    }
   ],
   "source": [
    "response[\"messages\"]"
   ]
  },
  {
   "cell_type": "code",
   "execution_count": 50,
   "id": "a684f2ba",
   "metadata": {},
   "outputs": [
    {
     "data": {
      "text/plain": [
       "'Hello World!'"
      ]
     },
     "execution_count": 50,
     "metadata": {},
     "output_type": "execute_result"
    }
   ],
   "source": [
    "response[\"messages\"][-1].content"
   ]
  },
  {
   "cell_type": "code",
   "execution_count": 51,
   "id": "a8f89bb8",
   "metadata": {},
   "outputs": [
    {
     "name": "stdout",
     "output_type": "stream",
     "text": [
      "The capital of Nepal is Kathmandu.\n"
     ]
    }
   ],
   "source": [
    "for event in graph.stream({\"messages\":\"Whats the capital of Nepal?\"}):\n",
    "    for value in event.values():\n",
    "        print(value[\"messages\"][-1].content)"
   ]
  },
  {
   "cell_type": "markdown",
   "id": "f87bc76c",
   "metadata": {},
   "source": [
    "## Tools"
   ]
  },
  {
   "cell_type": "code",
   "execution_count": 97,
   "id": "c6ec41bd",
   "metadata": {},
   "outputs": [
    {
     "data": {
      "text/plain": [
       "{'query': 'What is current news about US and Iran',\n",
       " 'follow_up_questions': None,\n",
       " 'answer': None,\n",
       " 'images': [],\n",
       " 'results': [{'title': \"Live updates: Iranian leader warns US of 'irreparable damage' | AP News\",\n",
       "   'url': 'https://apnews.com/live/israel-iran-attack-conflict-updates',\n",
       "   'content': \"Iran says it will keep enriching uranium: Israel says it launched the strikes to prevent Iran from building a nuclear weapon, after talks between the United States and Iran over a diplomatic resolution had made little visible progress over two months but were still ongoing. Trump has said Israel's campaign came after a 60-day window he set\",\n",
       "   'score': 0.66777676,\n",
       "   'raw_content': None},\n",
       "  {'title': 'Israel and Iran trade strikes as Trump weighs US involvement in conflict',\n",
       "   'url': 'https://www.cnn.com/world/live-news/israel-iran-conflict-06-19-25-intl-hnk',\n",
       "   'content': \"Iran and Israel continue to trade strikes as President Donald Trump's decision on whether the US would get involved looms large. Follow for live updates.\",\n",
       "   'score': 0.50886196,\n",
       "   'raw_content': None}],\n",
       " 'response_time': 2.06}"
      ]
     },
     "execution_count": 97,
     "metadata": {},
     "output_type": "execute_result"
    }
   ],
   "source": [
    "from langchain_tavily import TavilySearch\n",
    "\n",
    "tool = TavilySearch(max_results = 2)\n",
    "tool.invoke(\"What is current news about US and Iran\")"
   ]
  },
  {
   "cell_type": "code",
   "execution_count": 53,
   "id": "227d8a40",
   "metadata": {},
   "outputs": [],
   "source": [
    "# custom \n",
    "\n",
    "def multiply(a:int, b:int)->int:\n",
    "    \"\"\"\n",
    "    Multiply two numbers.\n",
    "    \n",
    "    Args:\n",
    "        a (int): first int\n",
    "        b (int): second int\n",
    "    \n",
    "    Returns:\n",
    "        int: output int\n",
    "    \"\"\"\n",
    "    return a*b"
   ]
  },
  {
   "cell_type": "code",
   "execution_count": 54,
   "id": "1f2431d8",
   "metadata": {},
   "outputs": [
    {
     "data": {
      "text/plain": [
       "40"
      ]
     },
     "execution_count": 54,
     "metadata": {},
     "output_type": "execute_result"
    }
   ],
   "source": [
    "c = multiply(10,4)\n",
    "c"
   ]
  },
  {
   "cell_type": "code",
   "execution_count": 55,
   "id": "60dfc6aa",
   "metadata": {},
   "outputs": [],
   "source": [
    "tools = [tool, multiply]\n",
    "llm_with_tool = llm.bind_tools(tools)"
   ]
  },
  {
   "cell_type": "code",
   "execution_count": 98,
   "id": "f8bf18ac",
   "metadata": {},
   "outputs": [
    {
     "data": {
      "text/plain": [
       "RunnableBinding(bound=ChatGroq(client=<groq.resources.chat.completions.Completions object at 0x0000021F5B3C6310>, async_client=<groq.resources.chat.completions.AsyncCompletions object at 0x0000021F5B3C5990>, model_name='llama3-8b-8192', model_kwargs={}, groq_api_key=SecretStr('**********')), kwargs={'tools': [{'type': 'function', 'function': {'name': 'tavily_search', 'description': 'A search engine optimized for comprehensive, accurate, and trusted results. Useful for when you need to answer questions about current events. It not only retrieves URLs and snippets, but offers advanced search depths, domain management, time range filters, and image search, this tool delivers real-time, accurate, and citation-backed results.Input should be a search query.', 'parameters': {'properties': {'query': {'description': 'Search query to look up', 'type': 'string'}, 'include_domains': {'anyOf': [{'items': {'type': 'string'}, 'type': 'array'}, {'type': 'null'}], 'default': [], 'description': 'A list of domains to restrict search results to.\\n\\n        Use this parameter when:\\n        1. The user explicitly requests information from specific websites (e.g., \"Find climate data from nasa.gov\")\\n        2. The user mentions an organization or company without specifying the domain (e.g., \"Find information about iPhones from Apple\")\\n\\n        In both cases, you should determine the appropriate domains (e.g., [\"nasa.gov\"] or [\"apple.com\"]) and set this parameter.\\n\\n        Results will ONLY come from the specified domains - no other sources will be included.\\n        Default is None (no domain restriction).\\n        '}, 'exclude_domains': {'anyOf': [{'items': {'type': 'string'}, 'type': 'array'}, {'type': 'null'}], 'default': [], 'description': 'A list of domains to exclude from search results.\\n\\n        Use this parameter when:\\n        1. The user explicitly requests to avoid certain websites (e.g., \"Find information about climate change but not from twitter.com\")\\n        2. The user mentions not wanting results from specific organizations without naming the domain (e.g., \"Find phone reviews but nothing from Apple\")\\n\\n        In both cases, you should determine the appropriate domains to exclude (e.g., [\"twitter.com\"] or [\"apple.com\"]) and set this parameter.\\n\\n        Results will filter out all content from the specified domains.\\n        Default is None (no domain exclusion).\\n        '}, 'search_depth': {'anyOf': [{'enum': ['basic', 'advanced'], 'type': 'string'}, {'type': 'null'}], 'default': 'basic', 'description': 'Controls search thoroughness and result comprehensiveness.\\n    \\n        Use \"basic\" for simple queries requiring quick, straightforward answers.\\n        \\n        Use \"advanced\" (default) for complex queries, specialized topics, \\n        rare information, or when in-depth analysis is needed.\\n        '}, 'include_images': {'anyOf': [{'type': 'boolean'}, {'type': 'null'}], 'default': False, 'description': 'Determines if the search returns relevant images along with text results.\\n   \\n        Set to True when the user explicitly requests visuals or when images would \\n        significantly enhance understanding (e.g., \"Show me what black holes look like,\" \\n        \"Find pictures of Renaissance art\").\\n        \\n        Leave as False (default) for most informational queries where text is sufficient.\\n        '}, 'time_range': {'anyOf': [{'enum': ['day', 'week', 'month', 'year'], 'type': 'string'}, {'type': 'null'}], 'default': None, 'description': 'Limits results to content published within a specific timeframe.\\n        \\n        ONLY set this when the user explicitly mentions a time period \\n        (e.g., \"latest AI news,\" \"articles from last week\").\\n        \\n        For less popular or niche topics, use broader time ranges \\n        (\"month\" or \"year\") to ensure sufficient relevant results.\\n   \\n        Options: \"day\" (24h), \"week\" (7d), \"month\" (30d), \"year\" (365d).\\n        \\n        Default is None.\\n        '}, 'topic': {'anyOf': [{'enum': ['general', 'news', 'finance'], 'type': 'string'}, {'type': 'null'}], 'default': 'general', 'description': 'Specifies search category for optimized results.\\n   \\n        Use \"general\" (default) for most queries, INCLUDING those with terms like \\n        \"latest,\" \"newest,\" or \"recent\" when referring to general information.\\n\\n        Use \"finance\" for markets, investments, economic data, or financial news.\\n\\n        Use \"news\" ONLY for politics, sports, or major current events covered by \\n        mainstream media - NOT simply because a query asks for \"new\" information.\\n        '}}, 'required': ['query'], 'type': 'object'}}}, {'type': 'function', 'function': {'name': 'multiply', 'description': 'Multiply two numbers.', 'parameters': {'properties': {'a': {'description': 'first int', 'type': 'integer'}, 'b': {'description': 'second int', 'type': 'integer'}}, 'required': ['a', 'b'], 'type': 'object'}}}]}, config={}, config_factories=[])"
      ]
     },
     "execution_count": 98,
     "metadata": {},
     "output_type": "execute_result"
    }
   ],
   "source": [
    "llm_with_tool"
   ]
  },
  {
   "cell_type": "code",
   "execution_count": 99,
   "id": "de263dd4",
   "metadata": {},
   "outputs": [],
   "source": [
    "\n",
    "from langgraph.graph import StateGraph, START, END\n",
    "from langgraph.prebuilt import ToolNode\n",
    "from langgraph.prebuilt import tools_condition\n",
    "def tool_calling_llm(state:State):\n",
    "    return {\n",
    "        \"messages\":[llm_with_tool.invoke(state[\"messages\"])]\n",
    "    }"
   ]
  },
  {
   "cell_type": "code",
   "execution_count": 110,
   "id": "62cc12d9",
   "metadata": {},
   "outputs": [],
   "source": [
    "builder = StateGraph(State)\n",
    "builder.add_node(\"tool_calling_llm\",tool_calling_llm)\n",
    "builder.add_node(\"tools\",ToolNode(tools))\n",
    "\n",
    "builder.add_edge(START, \"tool_calling_llm\")\n",
    "builder.add_conditional_edges(\"tool_calling_llm\",tools_condition)\n",
    "\n",
    "builder.add_edge(\"tools\", \"tool_calling_llm\") # change\n",
    "# builder.add_edge(\"tools\", END) # change\n",
    "\n",
    "graph = builder.compile()"
   ]
  },
  {
   "cell_type": "code",
   "execution_count": 111,
   "id": "cfe1b9f7",
   "metadata": {},
   "outputs": [
    {
     "data": {
      "image/png": "[encoded data removed]",
      "text/plain": [
       "<IPython.core.display.Image object>"
      ]
     },
     "metadata": {},
     "output_type": "display_data"
    }
   ],
   "source": [
    "display(Image(graph.get_graph().draw_mermaid_png()))"
   ]
  },
  {
   "cell_type": "code",
   "execution_count": 102,
   "id": "8315f463",
   "metadata": {},
   "outputs": [
    {
     "data": {
      "text/plain": [
       "{'messages': [HumanMessage(content='What is the recent WAR news about Iran and Israel', additional_kwargs={}, response_metadata={}, id='63b189ae-22e0-42c1-ae23-868fbd0d748d'),\n",
       "  AIMessage(content='', additional_kwargs={'tool_calls': [{'id': 'fhm4vfhtz', 'function': {'arguments': '{\"exclude_domains\":[\"twitter.com\"],\"include_domains\":[\"aljazeera.com\",\"haaretz.com\"],\"include_images\":true,\"query\":\"recent WAR news about Iran and Israel\",\"search_depth\":\"advanced\",\"time_range\":\"week\",\"topic\":\"news\"}', 'name': 'tavily_search'}, 'type': 'function'}]}, response_metadata={'token_usage': {'completion_tokens': 225, 'prompt_tokens': 2197, 'total_tokens': 2422, 'completion_time': 0.643204474, 'prompt_time': 0.360669561, 'queue_time': 1.146862827, 'total_time': 1.003874035}, 'model_name': 'llama3-8b-8192', 'system_fingerprint': 'fp_8dc6ecaf8e', 'finish_reason': 'tool_calls', 'logprobs': None}, id='run--9ffe12d6-37ac-48d9-8010-bbd866939844-0', tool_calls=[{'name': 'tavily_search', 'args': {'exclude_domains': ['twitter.com'], 'include_domains': ['aljazeera.com', 'haaretz.com'], 'include_images': True, 'query': 'recent WAR news about Iran and Israel', 'search_depth': 'advanced', 'time_range': 'week', 'topic': 'news'}, 'id': 'fhm4vfhtz', 'type': 'tool_call'}], usage_metadata={'input_tokens': 2197, 'output_tokens': 225, 'total_tokens': 2422}),\n",
       "  ToolMessage(content='{\"query\": \"recent WAR news about Iran and Israel\", \"follow_up_questions\": null, \"answer\": null, \"images\": [\"https://www.aljazeera.com/wp-content/uploads/2024/04/INTERACTIVE-Iran-fires-drones-and-missiles-at-Israel-1-1713087132.png?w=770&resize=770,769\", \"https://www.aljazeera.com/wp-content/uploads/2023/02/339U4YZ-highres-1.jpg?resize=1920,1440\", \"https://www.aljazeera.com/wp-content/uploads/2023/11/11854084-1700724690.jpg?resize=730,410&quality=80\", \"https://www.aljazeera.com/wp-content/uploads/2024/04/AFP__20240327__34MG6LW__v1__HighRes__PalestinianIsraelConflict-1-1712490847.jpg?resize=1920,1440\", \"https://www.aljazeera.com/wp-content/uploads/2023/10/2023-10-14T121307Z_511324057_RC25S3ARZU8C_RTRMADP_3_ISRAEL-PALESTINIANS-1697288093.jpg?resize=1920,1440\"], \"results\": [{\"url\": \"https://www.haaretz.com/israel-news/podcasts/2025-06-18/ty-article-podcast/israel-and-iran-at-war-trump-and-netanyahu-set-a-trap-for-the-iranians/00000197-83b0-d01a-a3f7-93fdf1110000\", \"title\": \"Israel and Iran at War: \\'Trump and Netanyahu Set a Trap for the Iranians\\' - Haaretz\", \"score\": 0.75027883, \"published_date\": \"Wed, 18 Jun 2025 17:43:00 GMT\", \"content\": \"## Click the alert icon to follow topics:\\\\n\\\\n## Comments\\\\n\\\\n### In the News\\\\n\\\\n#### Israel and Iran at War: \\'Trump and Netanyahu Set a Trap for the Iranians\\'\\\\n\\\\n#### Israeli Soldier Killed in Southern Gaza Combat, IDF Announces\\\\n\\\\n#### \\'Israel\\'s Capabilities in Iran Prove the Gov\\'t Could Return the Hostages if It Wanted To\\'\\\\n\\\\n#### War With Iran: Animal Abandonment in Israel Soars\\\\n\\\\n#### Can the Iranian \\'Ring of Fire\\' Around Israel Still Burn?\\\\n\\\\n#### Learn How to Optimize Your Home Solar System\\\\n\\\\n## ICYMI [...] pod\\\\nפגיעת טיל בבניינים בתל אביב\\\\nמערכת כיפת ברזל יירוטים יירוט\\\\nתא תא\\\\nALTERNATIVE CROP OF XEM124.- A projectile hit buildings as Israeli Iron Dome air defense system fires to intercept missiles over Tel Aviv, Israel, Friday, June 13, 2025. (AP Photo/Leo Correa) \\\\nIsrael Iran Mideast Wars\\\\nמלחמה אירן ישראל\\\\nעם כלביא\\\\nהתקפה מאיראן / על איראן\\\\nמתקפת טילים  \\\\nטיל\\\\nשיגור שיגורים\\\\nתקיפה\\\\nטיל \\\\nמתקפת טילים\\\\nרקטות\\\\nנפילה \\\\nנפילת \\\\nנפילות\\\\nמטח\\\\nנזק נזקים\\\\nפגיעה פגיעות\\\\nנפגע \\\\nנפגעים\\\\nהרס בניינים בתים\\\\nהריסות\\\\nחורבן\\\\nבניין מבנה [...] #### In the News\\\\n\\\\n# Israel and Iran at War: \\'Trump and Netanyahu Set a Trap for the Iranians\\'\", \"raw_content\": null}, {\"url\": \"https://www.aljazeera.com/news/2025/6/17/israel-and-iran-trade-strikes-as-hostilities-extend-into-fifth-day\", \"title\": \"Israel and Iran trade strikes as hostilities extend into fifth day - Al Jazeera\", \"score\": 0.69498676, \"published_date\": \"Tue, 17 Jun 2025 11:42:05 GMT\", \"content\": \"_Concerns grow that the conflict could spark a wider regional war._\\\\n\\\\nImage 1: Israeli police members close a road as smoke billows from a site in Herzliya near Tel Aviv following a fresh barrage of Iranian rockets\\\\n\\\\nSmoke billows up from the site of an Iranian rocket strike in Herzliya, Israel [Menahem Kahana/AFP]\\\\n\\\\nPublished On 17 Jun 2025 17 Jun 2025\\\\n\\\\nSave articles to read later and create your own reading list.\\\\n\\\\n[]( [...] Israel has carried out strikes across Iran while Tehran returned fire with missiles as the foes traded attacks for a fifth straight day.\\\\n\\\\nThe ongoing violence on Tuesday came after United States President Donald Trump struck an ominous note, calling for the immediate evacuation of Tehran. Concerns that the US could spark a wider regional war should it enter direct conflict with Iran continue to build.\\\\n\\\\nRecommended Stories\\\\n------------------- [...] The Israeli military reported early on Tuesday that it carried out “several extensive strikes” on what it said were missile sites and other military targets in western Iran, striking dozens of missile and drone facilities.\\\\n\\\\nIranian media reported that loud explosions were heard in the northwestern city of Tabriz, home to an air force base that Israel has repeatedly targeted since it launched a surprise assault on Iran’s military and nuclear facilities on Friday.\", \"raw_content\": null}, {\"url\": \"https://www.haaretz.com/israel-news/2025-06-16/ty-article-magazine/.premium/iran-boasts-firing-a-new-type-of-missile-this-is-the-arsenal-threatening-israel/00000197-789a-d717-a1df-feda5d360000\", \"title\": \"Iran Boasts Firing a New Type of Missile: This Is the Arsenal Threatening Israel - Haaretz\", \"score\": 0.68748367, \"published_date\": \"Mon, 16 Jun 2025 13:49:00 GMT\", \"content\": \"## Comments\\\\n\\\\n### In the News\\\\n\\\\n#### Iran Boasts Firing a New Type of Missile: This Is the Arsenal Threatening Israel\\\\n\\\\n#### Israel Kills Iran\\'s Intelligence Chief, Netanyahu Says Toppling Ayatollah Regime an Option\\\\n\\\\n#### Opposition MKs Backs Netanyahu, Help Defeat No-confidence Vote, Citing War With Iran\\\\n\\\\n#### Government Scrambles to Help Stranded Israelis Return as Iran War Shuts Down Airspace\\\\n\\\\n#### As Israel Strikes Iran, Trump and Tehran Eye Nuclear Deal to End the War [...] # Iran Boasts Firing a New Type of Missile: This Is the Arsenal Threatening Israel\\\\n\\\\nIran has been hard at work for years developing precise, advanced missiles such as the Haj Qassem, and has fired over 300 ballistic missiles at Israel since Friday\\\\n\\\\nOded Yaron\\\\n\\\\nOded Yaron\\\\n\\\\nIran on Sunday boasted that it had debuted a relatively new missile against Israel, called Haj Qassem. The missile is named after Qassem Soleimani, commander of the Al-Quds force whom the United States assassinated in 2020.\", \"raw_content\": null}, {\"url\": \"https://www.aljazeera.com/news/2025/6/16/little-sign-of-restraint-as-israel-and-iran-continue-to-swap-deadly-strikes\", \"title\": \"Little sign of restraint as Israel and Iran continue to swap deadly strikes - Al Jazeera\", \"score\": 0.65861565, \"published_date\": \"Mon, 16 Jun 2025 09:45:55 GMT\", \"content\": \"That has helped encourage a rise in the hardline rhetoric emerging from Tel Aviv and Tehran, which continued on Monday, suggesting there is little chance either side is ready to step back.\\\\n\\\\nIsraeli Defence Minister Israel Katz warned on Monday that residents in Tehran would “pay the price” for Iran’s killing of Israeli civilians in its overnight missile attacks. [...] “I think it’s going to continue escalating because we are just in the first days of the war,” he said. “The Israeli officials, the prime minister and the army, have all warned Israeli society that this war is going to be heavy and … the price is going to be extremely high.”\\\\n\\\\nMeanwhile, Alex Vatanka, a senior fellow at the Middle East Institute, told Al Jazeera that Iran would likely welcome an end to hostilities in the non-too-distant future. [...] Published Time: 2025-06-16T09:45:39Z\\\\n\\\\nLittle sign of restraint as Israel and Iran continue to swap deadly strikes | Israel-Iran conflict News | Al Jazeera\\\\n\\\\n===============\\\\n\\\\n Advertisement \\\\n\\\\nSkip linksSkip to Content\\\\n\\\\n that conducts military and intelligence operations outside Iran.\\\\n\\\\n“In these command centers, Quds operatives advanced terrorist attacks against the State of Israel using the proxies of the Iranian Regime in the Middle East,” it wrote in a post on X.\\\\n\\\\n### Sign up for Al Jazeera\", \"raw_content\": null}, {\"url\": \"https://www.aljazeera.com/gallery/2025/6/16/photos-of-the-escalating-israel-iran-conflict\", \"title\": \"Photos of the escalating Israel-Iran conflict - Al Jazeera\", \"score\": 0.64880073, \"published_date\": \"Mon, 16 Jun 2025 11:26:15 GMT\", \"content\": \"The death toll in Israel rose by 11 on Monday, the prime minister’s office said, bringing the total since Friday, when Iran fired missiles following Israel’s attacks on its nuclear and military facilities, to 24.\\\\n\\\\nResidential areas in both countries have suffered numerous hits since the hostilities erupted.\\\\n\\\\nIsraeli Prime Minister Benjamin Netanyahu has accused Iran of deliberately targeting civilians. [...] Israeli attacks across Iran, stretching from the western border with Iraq to the capital, Tehran, and as far east as Mashhad, were followed by an Iranian barrage on Israeli cities in retaliation.\\\\n\\\\nThe death toll from Israel’s attacks on Iran has risen to more than 220, including 70 women and children, according to reports. The intelligence chief of Iran’s Islamic Revolutionary Guard Corps and two other generals were killed on Sunday. [...] In Pictures\\\\n\\\\n# Photos of the escalating Israel-Iran conflict\\\\n\\\\nThe two regional rivals exchange more deadly attacks as open hostilities extend into a fourth day.\\\\n\\\\nUltra-Orthodox Jewish men\\\\n\\\\nIsrael and Iran have been exchanging air attacks as the open hostilities between the old foes extended into a fourth day.\", \"raw_content\": null}], \"response_time\": 2.29}', name='tavily_search', id='16511e72-2169-4866-ad38-c5df69ee9017', tool_call_id='fhm4vfhtz')]}"
      ]
     },
     "execution_count": 102,
     "metadata": {},
     "output_type": "execute_result"
    }
   ],
   "source": [
    "graph.invoke({\"messages\":\"What is the recent WAR news about Iran and Israel\"})"
   ]
  },
  {
   "cell_type": "code",
   "execution_count": 103,
   "id": "12c22e69",
   "metadata": {},
   "outputs": [
    {
     "data": {
      "text/plain": [
       "[HumanMessage(content='What is the recent WAR news about Iran and Israel', additional_kwargs={}, response_metadata={}, id='5e296dde-b217-41cc-8991-81f2146fb46e'),\n",
       " AIMessage(content='', additional_kwargs={'tool_calls': [{'id': 'btds113kf', 'function': {'arguments': '{\"exclude_domains\":[],\"include_domains\":[],\"include_images\":false,\"query\":\"recent WAR news about Iran and Israel\",\"search_depth\":\"advanced\",\"time_range\":null,\"topic\":\"news\"}', 'name': 'tavily_search'}, 'type': 'function'}]}, response_metadata={'token_usage': {'completion_tokens': 115, 'prompt_tokens': 2197, 'total_tokens': 2312, 'completion_time': 0.319857755, 'prompt_time': 1.356388687, 'queue_time': 7.972554746999999, 'total_time': 1.676246442}, 'model_name': 'llama3-8b-8192', 'system_fingerprint': 'fp_8b7c3a83f7', 'finish_reason': 'tool_calls', 'logprobs': None}, id='run--6f213104-28b2-487f-8c2b-be875bd783a8-0', tool_calls=[{'name': 'tavily_search', 'args': {'exclude_domains': [], 'include_domains': [], 'include_images': False, 'query': 'recent WAR news about Iran and Israel', 'search_depth': 'advanced', 'time_range': None, 'topic': 'news'}, 'id': 'btds113kf', 'type': 'tool_call'}], usage_metadata={'input_tokens': 2197, 'output_tokens': 115, 'total_tokens': 2312}),\n",
       " ToolMessage(content='{\"query\": \"recent WAR news about Iran and Israel\", \"follow_up_questions\": null, \"answer\": null, \"images\": [], \"results\": [{\"url\": \"https://www.twz.com/news-features/one-third-of-irans-long-range-missile-launchers-destroyed-israel-claims\", \"title\": \"One Third Of Iran’s Long-Range Missile Launchers Destroyed, Israel Claims - The War Zone\", \"score\": 0.77261686, \"published_date\": \"Mon, 16 Jun 2025 18:23:35 GMT\", \"content\": \"Iran and Israel continue to trade blows late on Saturday and into Sunday. On the Israeli side, the strikes constitute the latest phase of Operation Rising Lion, a campaign designed to destroy Iran’s nuclear capability and long-range weapons capacity. For its part, Tehran continues to launch barrage of retaliatory missile strikes at Israel, with reportedly killed at least 10 people and injured more than 100 overnight. [...] There are reports that Iran has executed an individual accused of spying for Israel. The semi-official Fars agency reported that the man was found guilty of spying for Israel’s intelligence agency, Mossad. According to Reuters, this was the third such execution in recent weeks.\\\\n\\\\nIsmail Fekri, the alleged Mossad spy executed this morning by Iran. pic.twitter.com/cHkpXzye4y [...] The War Zone Logo\\\\nThe War Zone Logo\\\\n\\\\n# One Third Of Iran’s Long-Range Missile Launchers Destroyed, Israel Claims\\\\n\\\\nBy Thomas Newdick\\\\n\\\\nPublished Jun 16, 2025 2:23 PM EDT\\\\n\\\\nThe Israeli military claims it has destroyed one third of Iran’s long-range surface-to-surface missile launchers since the start of the conflict. For now, however, Iran is still launching missile strikes against Israel, with overnight attacks having killed at least eight people, according to Israeli sources.\\\\n\\\\nIDF screenshot\", \"raw_content\": null}, {\"url\": \"https://www.huffpost.com/entry/iran-wave-missiles-israel_n_684cee7ce4b0417963bb9283?origin=top-ad-recirc\", \"title\": \"Iran Launches Waves Of Missiles At Israel In Response To Airstrikes - HuffPost\", \"score\": 0.758958, \"published_date\": \"Sat, 14 Jun 2025 03:49:21 GMT\", \"content\": \"TEL AVIV/DUBAI/WASHINGTON, June 14 (Reuters) - Iran and Israel targeted each other with missiles and airstrikes early on Saturday after Israel launched its biggest-ever air offensive against its longtime foe in a bid to prevent it from developing a nuclear weapon. [...] The U.S. military helped shoot down Iranian missiles headed for Israel on Friday, two U.S. officials said. Israel’s military said Iran fired fewer than 100 missiles on Friday and that most were intercepted or fell short. Several buildings in and around Tel Aviv were hit.\\\\n\\\\nThe Israeli strikes on Iran throughout the day and the Iranian retaliation raised fears of a broader regional conflagration, although Iran’s allies Hamas in Gaza and Hezbollah in Lebanon have been decimated by Israel.\", \"raw_content\": null}, {\"url\": \"https://time.com/7294722/iran-israel-war-trump-strike/\", \"title\": \"Trump Warns Iran to De-Escalate Conflict With Israel ‘Before It’s Too Late’ as Death Toll Rises - Time Magazine\", \"score\": 0.7161595, \"published_date\": \"Mon, 16 Jun 2025 17:32:37 GMT\", \"content\": \"\\\\\"Both sides expressed the most serious concern about the ongoing escalation of the Iran-Israel conflict, which has already led to a large number of casualties and is fraught with serious long-term consequences for the entire region,” the Kremlin also said in a statement.\\\\n\\\\nErdogan also warned that Israel’s June 13 airstrikes have placed the region’s security “at grave risk,” according to Russian state news agency TASS.\\\\n\\\\nRead more:_Israel Gets the War It Wanted_\", \"raw_content\": null}, {\"url\": \"https://theconversation.com/iran-israel-threshold-war-has-rewritten-nuclear-escalation-rules-258965\", \"title\": \"Iran-Israel ‘threshold war’ has rewritten nuclear escalation rules - The Conversation\", \"score\": 0.7123327, \"published_date\": \"Mon, 16 Jun 2025 12:49:39 GMT\", \"content\": \"Smoke rises from locations targeted in Tehran amid the third day of Israel’s waves of strikes against Iran, on June 15, 2025. Photo by Khoshiran/Middle East Images/AFP via Getty Images\\\\n\\\\nIran-Israel ‘threshold war’ has rewritten nuclear escalation rules\\\\n======================================================================\\\\n\\\\nPublished: June 16, 2025 8:49am EDT\\\\n\\\\nFarah N. Jan, _University of Pennsylvania_\\\\n\\\\n### Author [...] The Houthis in Yemen have since joined the fight, by launching ballistic missiles at Tel Aviv. Notably absent are Hezbollah, Hamas and Iran’s Iraqi militias – all significantly damaged by recent action by Israel. This degradation of Iran’s “axis of resistance” – its traditional forward deterrent – fundamentally alters Tehran’s strategic calculations. Without strong proxies to threaten retaliation, Iran is more exposed to Israeli strikes, making nuclear weapons seem like the only reliable [...] Israel’s initial strike quickly triggered inevitable escalation. Iran’s retaliation came in waves: first hundreds of drones and missiles on June 13, then sustained barrages throughout the following days. By the morning of June 15, both countries were trading strikes on energy infrastructure, military bases and civilian areas, with no immediate end in sight.\", \"raw_content\": null}, {\"url\": \"https://www.latimes.com/opinion/story/2025-06-13/israel-iran-attack-nuclear-weapons-donald-trump-benjamin-netanyahu\", \"title\": \"Contributor: How should the U.S. respond to Israel\\'s attack on Iran? - Los Angeles Times\", \"score\": 0.6852132, \"published_date\": \"Fri, 13 Jun 2025 22:45:00 GMT\", \"content\": \"A firefighter calls out his colleagues at the scene of an explosion in a residence compound in northern Tehran, Iran, Friday, June 13, 2025. (AP Photo/Vahid Salemi)\\\\n\\\\nWorld & Nation\\\\n\\\\n### Israel launches withering attack on Iran, spurring retaliation and fears of all-out war\\\\n\\\\nFriday’s attacks constituted a significant escalation between Israel and Iran — raising fears of a full-on regional conflict likely to embroil the U.S. [...] Israeli political and military officials have made it abundantly clear that military operations will persist well into next week and perhaps go on even longer than that. The Iranians, in turn, will feel pressure to continue to retaliate with each passing day, whether it’s in the form of drones and missiles aimed at Israel’s air defenses, terrorist attacks on Western targets or sabotaging cargo vessels in the Persian Gulf. In any case, the Middle East is as close to a full-scale war as it has\", \"raw_content\": null}], \"response_time\": 1.36}', name='tavily_search', id='9d2f4939-1e2b-4eba-a653-3297569fefaa', tool_call_id='btds113kf')]"
      ]
     },
     "execution_count": 103,
     "metadata": {},
     "output_type": "execute_result"
    }
   ],
   "source": [
    "response = graph.invoke({\"messages\":\"What is the recent WAR news about Iran and Israel\"})\n",
    "response[\"messages\"]"
   ]
  },
  {
   "cell_type": "code",
   "execution_count": 104,
   "id": "ce4a2918",
   "metadata": {},
   "outputs": [
    {
     "name": "stdout",
     "output_type": "stream",
     "text": [
      "================================\u001b[1m Human Message \u001b[0m=================================\n",
      "\n",
      "What is the recent WAR news about Iran and Israel\n",
      "==================================\u001b[1m Ai Message \u001b[0m==================================\n",
      "Tool Calls:\n",
      "  tavily_search (btds113kf)\n",
      " Call ID: btds113kf\n",
      "  Args:\n",
      "    exclude_domains: []\n",
      "    include_domains: []\n",
      "    include_images: False\n",
      "    query: recent WAR news about Iran and Israel\n",
      "    search_depth: advanced\n",
      "    time_range: None\n",
      "    topic: news\n",
      "=================================\u001b[1m Tool Message \u001b[0m=================================\n",
      "Name: tavily_search\n",
      "\n",
      "{\"query\": \"recent WAR news about Iran and Israel\", \"follow_up_questions\": null, \"answer\": null, \"images\": [], \"results\": [{\"url\": \"https://www.twz.com/news-features/one-third-of-irans-long-range-missile-launchers-destroyed-israel-claims\", \"title\": \"One Third Of Iran’s Long-Range Missile Launchers Destroyed, Israel Claims - The War Zone\", \"score\": 0.77261686, \"published_date\": \"Mon, 16 Jun 2025 18:23:35 GMT\", \"content\": \"Iran and Israel continue to trade blows late on Saturday and into Sunday. On the Israeli side, the strikes constitute the latest phase of Operation Rising Lion, a campaign designed to destroy Iran’s nuclear capability and long-range weapons capacity. For its part, Tehran continues to launch barrage of retaliatory missile strikes at Israel, with reportedly killed at least 10 people and injured more than 100 overnight. [...] There are reports that Iran has executed an individual accused of spying for Israel. The semi-official Fars agency reported that the man was found guilty of spying for Israel’s intelligence agency, Mossad. According to Reuters, this was the third such execution in recent weeks.\\n\\nIsmail Fekri, the alleged Mossad spy executed this morning by Iran. pic.twitter.com/cHkpXzye4y [...] The War Zone Logo\\nThe War Zone Logo\\n\\n# One Third Of Iran’s Long-Range Missile Launchers Destroyed, Israel Claims\\n\\nBy Thomas Newdick\\n\\nPublished Jun 16, 2025 2:23 PM EDT\\n\\nThe Israeli military claims it has destroyed one third of Iran’s long-range surface-to-surface missile launchers since the start of the conflict. For now, however, Iran is still launching missile strikes against Israel, with overnight attacks having killed at least eight people, according to Israeli sources.\\n\\nIDF screenshot\", \"raw_content\": null}, {\"url\": \"https://www.huffpost.com/entry/iran-wave-missiles-israel_n_684cee7ce4b0417963bb9283?origin=top-ad-recirc\", \"title\": \"Iran Launches Waves Of Missiles At Israel In Response To Airstrikes - HuffPost\", \"score\": 0.758958, \"published_date\": \"Sat, 14 Jun 2025 03:49:21 GMT\", \"content\": \"TEL AVIV/DUBAI/WASHINGTON, June 14 (Reuters) - Iran and Israel targeted each other with missiles and airstrikes early on Saturday after Israel launched its biggest-ever air offensive against its longtime foe in a bid to prevent it from developing a nuclear weapon. [...] The U.S. military helped shoot down Iranian missiles headed for Israel on Friday, two U.S. officials said. Israel’s military said Iran fired fewer than 100 missiles on Friday and that most were intercepted or fell short. Several buildings in and around Tel Aviv were hit.\\n\\nThe Israeli strikes on Iran throughout the day and the Iranian retaliation raised fears of a broader regional conflagration, although Iran’s allies Hamas in Gaza and Hezbollah in Lebanon have been decimated by Israel.\", \"raw_content\": null}, {\"url\": \"https://time.com/7294722/iran-israel-war-trump-strike/\", \"title\": \"Trump Warns Iran to De-Escalate Conflict With Israel ‘Before It’s Too Late’ as Death Toll Rises - Time Magazine\", \"score\": 0.7161595, \"published_date\": \"Mon, 16 Jun 2025 17:32:37 GMT\", \"content\": \"\\\"Both sides expressed the most serious concern about the ongoing escalation of the Iran-Israel conflict, which has already led to a large number of casualties and is fraught with serious long-term consequences for the entire region,” the Kremlin also said in a statement.\\n\\nErdogan also warned that Israel’s June 13 airstrikes have placed the region’s security “at grave risk,” according to Russian state news agency TASS.\\n\\nRead more:_Israel Gets the War It Wanted_\", \"raw_content\": null}, {\"url\": \"https://theconversation.com/iran-israel-threshold-war-has-rewritten-nuclear-escalation-rules-258965\", \"title\": \"Iran-Israel ‘threshold war’ has rewritten nuclear escalation rules - The Conversation\", \"score\": 0.7123327, \"published_date\": \"Mon, 16 Jun 2025 12:49:39 GMT\", \"content\": \"Smoke rises from locations targeted in Tehran amid the third day of Israel’s waves of strikes against Iran, on June 15, 2025. Photo by Khoshiran/Middle East Images/AFP via Getty Images\\n\\nIran-Israel ‘threshold war’ has rewritten nuclear escalation rules\\n======================================================================\\n\\nPublished: June 16, 2025 8:49am EDT\\n\\nFarah N. Jan, _University of Pennsylvania_\\n\\n### Author [...] The Houthis in Yemen have since joined the fight, by launching ballistic missiles at Tel Aviv. Notably absent are Hezbollah, Hamas and Iran’s Iraqi militias – all significantly damaged by recent action by Israel. This degradation of Iran’s “axis of resistance” – its traditional forward deterrent – fundamentally alters Tehran’s strategic calculations. Without strong proxies to threaten retaliation, Iran is more exposed to Israeli strikes, making nuclear weapons seem like the only reliable [...] Israel’s initial strike quickly triggered inevitable escalation. Iran’s retaliation came in waves: first hundreds of drones and missiles on June 13, then sustained barrages throughout the following days. By the morning of June 15, both countries were trading strikes on energy infrastructure, military bases and civilian areas, with no immediate end in sight.\", \"raw_content\": null}, {\"url\": \"https://www.latimes.com/opinion/story/2025-06-13/israel-iran-attack-nuclear-weapons-donald-trump-benjamin-netanyahu\", \"title\": \"Contributor: How should the U.S. respond to Israel's attack on Iran? - Los Angeles Times\", \"score\": 0.6852132, \"published_date\": \"Fri, 13 Jun 2025 22:45:00 GMT\", \"content\": \"A firefighter calls out his colleagues at the scene of an explosion in a residence compound in northern Tehran, Iran, Friday, June 13, 2025. (AP Photo/Vahid Salemi)\\n\\nWorld & Nation\\n\\n### Israel launches withering attack on Iran, spurring retaliation and fears of all-out war\\n\\nFriday’s attacks constituted a significant escalation between Israel and Iran — raising fears of a full-on regional conflict likely to embroil the U.S. [...] Israeli political and military officials have made it abundantly clear that military operations will persist well into next week and perhaps go on even longer than that. The Iranians, in turn, will feel pressure to continue to retaliate with each passing day, whether it’s in the form of drones and missiles aimed at Israel’s air defenses, terrorist attacks on Western targets or sabotaging cargo vessels in the Persian Gulf. In any case, the Middle East is as close to a full-scale war as it has\", \"raw_content\": null}], \"response_time\": 1.36}\n"
     ]
    }
   ],
   "source": [
    "for m in response[\"messages\"]:\n",
    "    m.pretty_print()"
   ]
  },
  {
   "cell_type": "code",
   "execution_count": 105,
   "id": "995a4377",
   "metadata": {},
   "outputs": [],
   "source": [
    "response = graph.invoke({\"messages\":\"What is 10 multiplied by 4\"})"
   ]
  },
  {
   "cell_type": "code",
   "execution_count": 106,
   "id": "cb7bc7fd",
   "metadata": {},
   "outputs": [
    {
     "data": {
      "text/plain": [
       "{'messages': [HumanMessage(content='What is 10 multiplied by 4', additional_kwargs={}, response_metadata={}, id='a66567ef-a0ff-415d-a555-146a2c2ea419'),\n",
       "  AIMessage(content='', additional_kwargs={'tool_calls': [{'id': '8g1048gsr', 'function': {'arguments': '{\"a\":10,\"b\":4}', 'name': 'multiply'}, 'type': 'function'}]}, response_metadata={'token_usage': {'completion_tokens': 72, 'prompt_tokens': 2195, 'total_tokens': 2267, 'completion_time': 0.209671859, 'prompt_time': 0.254635105, 'queue_time': 3.0040050230000004, 'total_time': 0.464306964}, 'model_name': 'llama3-8b-8192', 'system_fingerprint': 'fp_8dc6ecaf8e', 'finish_reason': 'tool_calls', 'logprobs': None}, id='run--675e3ab1-0653-4981-b86f-067adadf0245-0', tool_calls=[{'name': 'multiply', 'args': {'a': 10, 'b': 4}, 'id': '8g1048gsr', 'type': 'tool_call'}], usage_metadata={'input_tokens': 2195, 'output_tokens': 72, 'total_tokens': 2267}),\n",
       "  ToolMessage(content='40', name='multiply', id='93de9c4b-8cd0-4695-a4a2-066701f2a611', tool_call_id='8g1048gsr')]}"
      ]
     },
     "execution_count": 106,
     "metadata": {},
     "output_type": "execute_result"
    }
   ],
   "source": [
    "response"
   ]
  },
  {
   "cell_type": "code",
   "execution_count": 107,
   "id": "e6d2c469",
   "metadata": {},
   "outputs": [
    {
     "data": {
      "text/plain": [
       "{'messages': [HumanMessage(content='Provide me weather prediction of Kathmandu and multiply 4 by 6', additional_kwargs={}, response_metadata={}, id='8ddce81d-b526-40e9-9c8f-3954735d6e58'),\n",
       "  AIMessage(content='', additional_kwargs={'tool_calls': [{'id': 'qjktkasds', 'function': {'arguments': '{\"query\":\"weather Kathmandu\",\"search_depth\":\"advanced\",\"time_range\":\"day\",\"topic\":\"general\"}', 'name': 'tavily_search'}, 'type': 'function'}, {'id': '689jtb2pd', 'function': {'arguments': '{\"a\":4,\"b\":6}', 'name': 'multiply'}, 'type': 'function'}]}, response_metadata={'token_usage': {'completion_tokens': 147, 'prompt_tokens': 2202, 'total_tokens': 2349, 'completion_time': 0.300736113, 'prompt_time': 0.27632224, 'queue_time': 0.8668759719999999, 'total_time': 0.577058353}, 'model_name': 'llama3-8b-8192', 'system_fingerprint': 'fp_8b7c3a83f7', 'finish_reason': 'tool_calls', 'logprobs': None}, id='run--f694be91-9d18-4855-b118-82af6056050e-0', tool_calls=[{'name': 'tavily_search', 'args': {'query': 'weather Kathmandu', 'search_depth': 'advanced', 'time_range': 'day', 'topic': 'general'}, 'id': 'qjktkasds', 'type': 'tool_call'}, {'name': 'multiply', 'args': {'a': 4, 'b': 6}, 'id': '689jtb2pd', 'type': 'tool_call'}], usage_metadata={'input_tokens': 2202, 'output_tokens': 147, 'total_tokens': 2349}),\n",
       "  ToolMessage(content='{\"query\": \"weather Kathmandu\", \"follow_up_questions\": null, \"answer\": null, \"images\": [], \"results\": [{\"url\": \"https://kathmandupost.com/weather/2025/06/19/today-s-weather-june-19-2025\", \"title\": \"Today\\'s weather: June 19, 2025 - The Kathmandu Post\", \"content\": \"[![Image 5](https://openweathermap.org/img/w/04d.png)21.35°C Kathmandu](https://kathmandupost.com/weather)\\\\n\\\\n[Air Quality in Kathmandu: **54**](https://kathmandupost.com/airquality)\\\\n\\\\n300+Hazardous\\\\n\\\\n0-50 Good\\\\n\\\\n51-100 Moderate\\\\n\\\\n101-150 Unhealty for Sensitive Groups\\\\n\\\\n151-200 Unhealthy\\\\n\\\\n201-300 Very Unhealthy\\\\n\\\\nThu, Jun 19, 2025\\\\n\\\\n[![Image 6](https://openweathermap.org/img/w/04d.png)21.35°C Kathmandu](https://kathmandupost.com/weather) [...] The division has also indicated the possibility of light rain or snowfall in a few places of the high hilly and Himalayan regions.\\\\n\\\\nNighttime conditions are expected to remain partly to generally cloudy. Koshi, Bagmati, Gandaki, Lumbini and Sudurpaschim provinces are likely to see light to moderate rainfall at some locations, while isolated heavy to very heavy rain may occur in Koshi, Madhesh, Gandaki and Lumbini provinces. [...] The Meteorological Forecasting Division has predicted light to moderate rainfall with thunder and lightning across various parts of the country over the next 24 hours, with the possibility of very heavy rain in some areas.\", \"score\": 0.94339466, \"raw_content\": null}, {\"url\": \"https://www.msn.com/en-xl/asia/nepal/today-s-weather-june-19-2025/ar-AA1GZESj\", \"title\": \"Today\\'s weather: June 19, 2025 - MSN\", \"content\": \"Kathmandu, June 19 -- The Meteorological Forecasting Division has predicted light to moderate rainfall with thunder and lightning across various parts of the\", \"score\": 0.9253988, \"raw_content\": null}, {\"url\": \"https://www.facebook.com/kathmandupost/posts/stay-informed-and-prepared-plan-your-day-with-the-kathmandu-posts-weather-update/1130335082461078/\", \"title\": \"The Kathmandu Post - Facebook\", \"content\": \"Stay informed and prepared: Plan your day with The Kathmandu Post\\'s weather updates. Today\\'s weather: June 19, 2025. KATHMANDUPOST.\", \"score\": 0.8306082, \"raw_content\": null}, {\"url\": \"https://www.facebook.com/kathmandupost/posts/stay-informed-and-prepared-plan-your-day-with-the-kathmandu-posts-weather-update/1130360859125167/\", \"title\": \"Plan your day with The Kathmandu Post\\'s weather updates. Details\", \"content\": \"... Kathmandu Post\\'s weather updates. Details ... Details: https://kathmandupost. com/weather/2025/06/19/today-s-weather-june- 19-2025 #TheKathmanduPost.\", \"score\": 0.7961819, \"raw_content\": null}], \"response_time\": 4.74}', name='tavily_search', id='15546bbb-6b9d-4cb7-87e9-e56a3b48480d', tool_call_id='qjktkasds'),\n",
       "  ToolMessage(content='24', name='multiply', id='e2f7208e-00c1-4469-b73a-184874147e31', tool_call_id='689jtb2pd')]}"
      ]
     },
     "execution_count": 107,
     "metadata": {},
     "output_type": "execute_result"
    }
   ],
   "source": [
    "# Act Observe Reason: ReACT\n",
    "graph.invoke({\"messages\":\"Provide me weather prediction of Kathmandu and multiply 4 by 6\"})"
   ]
  },
  {
   "cell_type": "code",
   "execution_count": 108,
   "id": "1610ea77",
   "metadata": {},
   "outputs": [
    {
     "data": {
      "text/plain": [
       "{'messages': [HumanMessage(content='What is 10 multiplied by 4', additional_kwargs={}, response_metadata={}, id='a66567ef-a0ff-415d-a555-146a2c2ea419'),\n",
       "  AIMessage(content='', additional_kwargs={'tool_calls': [{'id': '8g1048gsr', 'function': {'arguments': '{\"a\":10,\"b\":4}', 'name': 'multiply'}, 'type': 'function'}]}, response_metadata={'token_usage': {'completion_tokens': 72, 'prompt_tokens': 2195, 'total_tokens': 2267, 'completion_time': 0.209671859, 'prompt_time': 0.254635105, 'queue_time': 3.0040050230000004, 'total_time': 0.464306964}, 'model_name': 'llama3-8b-8192', 'system_fingerprint': 'fp_8dc6ecaf8e', 'finish_reason': 'tool_calls', 'logprobs': None}, id='run--675e3ab1-0653-4981-b86f-067adadf0245-0', tool_calls=[{'name': 'multiply', 'args': {'a': 10, 'b': 4}, 'id': '8g1048gsr', 'type': 'tool_call'}], usage_metadata={'input_tokens': 2195, 'output_tokens': 72, 'total_tokens': 2267}),\n",
       "  ToolMessage(content='40', name='multiply', id='93de9c4b-8cd0-4695-a4a2-066701f2a611', tool_call_id='8g1048gsr')]}"
      ]
     },
     "execution_count": 108,
     "metadata": {},
     "output_type": "execute_result"
    }
   ],
   "source": [
    "response"
   ]
  },
  {
   "cell_type": "code",
   "execution_count": 109,
   "id": "fa412263",
   "metadata": {},
   "outputs": [
    {
     "name": "stdout",
     "output_type": "stream",
     "text": [
      "================================\u001b[1m Human Message \u001b[0m=================================\n",
      "\n",
      "What is 10 multiplied by 4\n",
      "==================================\u001b[1m Ai Message \u001b[0m==================================\n",
      "Tool Calls:\n",
      "  multiply (8g1048gsr)\n",
      " Call ID: 8g1048gsr\n",
      "  Args:\n",
      "    a: 10\n",
      "    b: 4\n",
      "=================================\u001b[1m Tool Message \u001b[0m=================================\n",
      "Name: multiply\n",
      "\n",
      "40\n"
     ]
    }
   ],
   "source": [
    "for m in response[\"messages\"]:\n",
    "    m.pretty_print()"
   ]
  },
  {
   "cell_type": "code",
   "execution_count": null,
   "id": "fd935faa",
   "metadata": {},
   "outputs": [],
   "source": [
    "response=graph.invoke({\"messages\":\"What is the value of currency NPR with $ find and multiply both amount\"})"
   ]
  },
  {
   "cell_type": "code",
   "execution_count": null,
   "id": "7657316f",
   "metadata": {},
   "outputs": [],
   "source": []
  },
  {
   "cell_type": "code",
   "execution_count": 121,
   "id": "64b0a221",
   "metadata": {},
   "outputs": [
    {
     "name": "stdout",
     "output_type": "stream",
     "text": [
      "================================\u001b[1m Human Message \u001b[0m=================================\n",
      "\n",
      "What is the value of currency NPR with $ find and multiply both amount\n",
      "==================================\u001b[1m Ai Message \u001b[0m==================================\n",
      "\n",
      "/tool-use>\n",
      "{\n",
      "    \"tool_calls\": [\n",
      "        {\n",
      "            \"id\": \"pending\",\n",
      "            \"type\": \"function\",\n",
      "            \"function\": {\n",
      "                \"name\": \"multiply\"\n",
      "            },\n",
      "            \"parameters\": {\n",
      "                \"a\": 1,\n",
      "                \"b\": 100\n",
      "            }\n",
      "        }\n",
      "    ]\n",
      "}\n",
      "</tool-use>\n",
      "\n",
      "Please note that NPR is not a currency code recognized by the tool, so I've assumed it's the Nepalese Rupee. The tool will perform the multiplication operation on the given amounts.\n"
     ]
    }
   ],
   "source": [
    "for m in response[\"messages\"]:\n",
    "    m.pretty_print()"
   ]
  },
  {
   "cell_type": "code",
   "execution_count": 125,
   "id": "19148a4c",
   "metadata": {},
   "outputs": [],
   "source": [
    "response=graph.invoke({\"messages\":\"Who is the current CEO of google? and multiply 10 with 3\"})"
   ]
  },
  {
   "cell_type": "code",
   "execution_count": 126,
   "id": "2df8b71e",
   "metadata": {},
   "outputs": [
    {
     "name": "stdout",
     "output_type": "stream",
     "text": [
      "================================\u001b[1m Human Message \u001b[0m=================================\n",
      "\n",
      "Who is the current CEO of google? and multiply 10 with 3\n",
      "==================================\u001b[1m Ai Message \u001b[0m==================================\n",
      "Tool Calls:\n",
      "  tavily_search (cjhwtan0n)\n",
      " Call ID: cjhwtan0n\n",
      "  Args:\n",
      "    query: Who is the current CEO of Google?\n",
      "  multiply (8s7762778)\n",
      " Call ID: 8s7762778\n",
      "  Args:\n",
      "    a: 10\n",
      "    b: 3\n",
      "=================================\u001b[1m Tool Message \u001b[0m=================================\n",
      "Name: tavily_search\n",
      "\n",
      "{\"query\": \"Who is the current CEO of Google?\", \"follow_up_questions\": null, \"answer\": null, \"images\": [], \"results\": [{\"title\": \"Google CEO and Key Executive Team | Craft.co\", \"url\": \"https://craft.co/google/executives\", \"content\": \"Google's CEO is Sundar Pichai. Other executives include Philipp Schindler, Senior Vice President and Chief Business Officer; Lorraine Twohill, Chief Marketing Officer and 17 others. See the full leadership team at Craft.\", \"score\": 0.8893851, \"raw_content\": null}, {\"title\": \"Sundar Pichai - Wikipedia\", \"url\": \"https://en.wikipedia.org/wiki/Sundar_Pichai\", \"content\": \"Pichai Sundararajan (born June 10, 1972), better known as Sundar Pichai (pronounced: / ˈ s ʊ n d ɜːr p ɪ ˈ tʃ eɪ /), is an American business executive. [3] [4] He is the chief executive officer (CEO) of Alphabet Inc. and its subsidiary Google.[5]Pichai began his career as a materials engineer.Following a short stint at the management consulting firm McKinsey & Co., Pichai joined Google\", \"score\": 0.88799405, \"raw_content\": null}, {\"title\": \"Sundar Pichai | Biography, Google, & Facts | Britannica Money\", \"url\": \"https://www.britannica.com/money/Sundar-Pichai\", \"content\": \"Sundar Pichai (born June 10, 1972, Madras [now Chennai], Tamil Nadu, India) is an Indian-born American executive who was CEO of both Google, Inc. (2015- ), and its holding company, Alphabet Inc. (2019- ).. Early life. As a boy growing up in Madras, Pichai slept with his brother in the living room of the cramped family home, but his father, an electrical engineer at the British\", \"score\": 0.7931224, \"raw_content\": null}, {\"title\": \"Sundar Pichai | Google Blog - The Keyword\", \"url\": \"https://blog.google/authors/sundar-pichai/\", \"content\": \"Sundar is the CEO of Google and Alphabet and serves on Alphabet's Board of Directors. Under his leadership, Google has been focused on developing products and services, powered by the latest advances in AI, that offer help in moments big and small. Breadcrumb. Featured authors\", \"score\": 0.776708, \"raw_content\": null}, {\"title\": \"Sundar Pichai - CEO - Google | LinkedIn\", \"url\": \"https://www.linkedin.com/in/sundarpichai\", \"content\": \"CEO at Google · CEO of Google and Alphabet. Focused on organizing the world's information and making it universally accessible and useful, building great products, and developing advanced\", \"score\": 0.70214266, \"raw_content\": null}], \"response_time\": 2.06}\n",
      "=================================\u001b[1m Tool Message \u001b[0m=================================\n",
      "Name: multiply\n",
      "\n",
      "30\n",
      "==================================\u001b[1m Ai Message \u001b[0m==================================\n",
      "Tool Calls:\n",
      "  multiply (3d15ggb47)\n",
      " Call ID: 3d15ggb47\n",
      "  Args:\n",
      "    a: 10\n",
      "    b: 3\n",
      "=================================\u001b[1m Tool Message \u001b[0m=================================\n",
      "Name: multiply\n",
      "\n",
      "30\n",
      "==================================\u001b[1m Ai Message \u001b[0m==================================\n",
      "\n",
      "The user has already obtained the result for the multiplication of 10 and 3, which is 30. Therefore, I will not call the tool again.\n",
      "\n",
      "The user asked for the current CEO of Google, and the tool yielded the result that the current CEO is Sundar Pichai.\n",
      "\n",
      "Here is the combined answer:\n",
      "\n",
      "The current CEO of Google is Sundar Pichai, and 10 multiplied by 3 is 30.\n"
     ]
    }
   ],
   "source": [
    "for m in response[\"messages\"]:\n",
    "    m.pretty_print()"
   ]
  },
  {
   "cell_type": "markdown",
   "id": "ac87b27b",
   "metadata": {},
   "source": [
    "## Memory"
   ]
  },
  {
   "cell_type": "code",
   "execution_count": 127,
   "id": "cf5e0298",
   "metadata": {},
   "outputs": [
    {
     "data": {
      "image/png": "[encoded data removed]",
      "text/plain": [
       "<IPython.core.display.Image object>"
      ]
     },
     "metadata": {},
     "output_type": "display_data"
    }
   ],
   "source": [
    "from langgraph.graph import StateGraph,START,END\n",
    "from langgraph.prebuilt import ToolNode\n",
    "from langgraph.prebuilt import tools_condition\n",
    "from langgraph.checkpoint.memory import MemorySaver\n",
    "\n",
    "memory = MemorySaver()\n",
    "\n",
    "## Node definition\n",
    "def tool_calling_llm(state:State):\n",
    "    return {\"messages\":[llm_with_tool.invoke(state[\"messages\"])]}\n",
    "\n",
    "## Grpah\n",
    "builder=StateGraph(State)\n",
    "builder.add_node(\"tool_calling_llm\",tool_calling_llm)\n",
    "builder.add_node(\"tools\",ToolNode(tools))\n",
    "\n",
    "## Add Edges\n",
    "builder.add_edge(START, \"tool_calling_llm\")\n",
    "builder.add_conditional_edges(\n",
    "    \"tool_calling_llm\",\n",
    "    # If the latest message (result) from assistant is a tool call -> tools_condition routes to tools\n",
    "    # If the latest message (result) from assistant is a not a tool call -> tools_condition routes to END\n",
    "    tools_condition\n",
    ")\n",
    "builder.add_edge(\"tools\",\"tool_calling_llm\")\n",
    "\n",
    "## compile the graph\n",
    "graph=builder.compile(checkpointer=memory)\n",
    "\n",
    "from IPython.display import Image, display\n",
    "display(Image(graph.get_graph().draw_mermaid_png()))"
   ]
  },
  {
   "cell_type": "code",
   "execution_count": 128,
   "id": "fb0d3108",
   "metadata": {},
   "outputs": [
    {
     "data": {
      "text/plain": [
       "{'messages': [HumanMessage(content=\"I'm from country Nepal.\", additional_kwargs={}, response_metadata={}, id='cf00f136-9cf1-457c-94f0-93049e9b69ef'),\n",
       "  AIMessage(content='', additional_kwargs={'tool_calls': [{'id': 's830zpnwx', 'function': {'arguments': '{\"query\":\"Nepal\"}', 'name': 'tavily_search'}, 'type': 'function'}]}, response_metadata={'token_usage': {'completion_tokens': 70, 'prompt_tokens': 2193, 'total_tokens': 2263, 'completion_time': 0.147803384, 'prompt_time': 0.496113784, 'queue_time': 5.9137143409999995, 'total_time': 0.643917168}, 'model_name': 'llama3-8b-8192', 'system_fingerprint': 'fp_8b7c3a83f7', 'finish_reason': 'tool_calls', 'logprobs': None}, id='run--187ee420-a6c7-47cc-8b6a-d4268813df13-0', tool_calls=[{'name': 'tavily_search', 'args': {'query': 'Nepal'}, 'id': 's830zpnwx', 'type': 'tool_call'}], usage_metadata={'input_tokens': 2193, 'output_tokens': 70, 'total_tokens': 2263}),\n",
       "  ToolMessage(content='{\"query\": \"Nepal\", \"follow_up_questions\": null, \"answer\": null, \"images\": [], \"results\": [{\"title\": \"Nepal - Wikipedia\", \"url\": \"https://en.wikipedia.org/wiki/Nepal\", \"content\": \"| Federal Democratic Republic of Nepal सङ्घीय लोकतान्त्रिक गणतन्त्र नेपाल (Nepali) Saṅghīya Lokatāntrika Gaṇatantra Nepāla | | --- | | Flag Emblem | | Motto: जननी जन्मभूमिश्च स्वर्गादपि गरीयसी (Sanskrit) Janani Janmabhumishcha Swargadapi Gariyasi \\\\\"Mother and Motherland are Greater Than Heaven\\\\\" | | Anthem: सयौँ थुँगा फूलका (Nepali) Sayaun Thunga Phulka \\\\\"Made of Hundreds of Flowers\\\\\" | | Location of Nepal Territory claimed but not controlled Nepal on the globe Administrative map of Nepal | | Capital and largest city | Kathmandu[1] 28°10′N 84°15′E / 28.167°N 84.250°E / 28.167; 84.250 | | Official languages | Nepali[2] | | Recognised national languages | All mother-tongues[3][4] (see Languages of Nepal) | | Ethnic groups (2021)[5] | 30.12% Khas Arya 16.45% Chhetri 11.29% Bahun 1.7% Thakuri 0.68% Sanyasi 6.9% Magars 6.2% Tharu 5.62% Tamang 5.04% Kami 4.86% Musalman 4.6% Newar 4.21% Yadav 2.2% Rai 32.63% other | | Religion (2021)[6] | 81.19% Hinduism 8.21% Buddhism 5.09% Islam 3.17% Kirant 1.76% Christianity 0.35% Prakriti 0.23% Bon 0.01% Jainism | | Demonym(s) | Nepali Nepalese | | Government | Federal parliamentary republic | | | | • President | Ram Chandra Poudel | | • Vice President | Ram Sahaya Yadav | | • Prime Minister | K. P. Sharma Oli | | • Chief Justice | Prakash Man Singh Raut | | | | Legislature | Federal Parliament | | • Upper house | National Assembly | | • Lower house | House of Representatives | | Formation | | | | • Unification | 25 September 1768[7] | | • Treaty of Sugauli[8] | 4 March 1816 | | • Nepal–Britain Treaty of 1923[9] | 21 December 1923 | | • Federal Republic | 28 May 2008 | | • Current constitution | 20 September 2015 | | | | Area | | • Total | 147,516 km2 (56,956 sq mi) (93rd) | | • Water (%) | 2.8% | | Population | | • 2024 estimate | 31,122,387[10] (49th) | | • Density | 180/km2 (466.2/sq mi) (72nd) | | GDP (PPP) | 2024 estimate | | • Total | $169.120 billion[11] (85th) | | • Per capita | $5,348[11] (151th) | | GDP (nominal) | 2024 estimate | | • Total | $43.673 billion[11] (100nd) | | • Per capita | $1,381[11] (161th) | | Gini (2022) | 30.0[12] medium inequality | | HDI (2022) | 0.601[13] medium (146th) | | Currency | Nepalese rupee (Rs, रू) (NPR) | | Time zone | UTC+05:45 (Nepal Standard Time) | | Date format | YYYY/MM/DD | | Calling code | +977 | | ISO 3166 code | NP | | Internet TLD | .np | Nepal,[a] officially the Federal Democratic Republic of Nepal,[b] is a landlocked country in South Asia. It is mainly situated in the Himalayas, but also includes parts of the Indo-Gangetic Plain. It borders the Tibet Autonomous Region of China to the north, and India to the south, east, and west, while it is narrowly separated from Bangladesh by the Siliguri Corridor, and from Bhutan by the Indian state of Sikkim. Nepal has a diverse geography, including fertile plains, subalpine forested hills, and eight of the world\\'s ten tallest mountains, including Mount Everest, the highest point on Earth.\", \"score\": 0.9152729, \"raw_content\": null}, {\"title\": \"Nepal | History, Population, Flag, Language, Map, & Facts | Britannica\", \"url\": \"https://www.britannica.com/place/Nepal\", \"content\": \"Nepal, country of Asia, lying along the southern slopes of the Himalayan mountain ranges and wedged between two giants, India and China. Its capital is Kathmandu. Years of self-imposed isolation and its rugged and difficult mountain terrain have left Nepal one of the least developed nations of the world.\", \"score\": 0.76002824, \"raw_content\": null}, {\"title\": \"Nepal - Simple English Wikipedia, the free encyclopedia\", \"url\": \"https://simple.wikipedia.org/wiki/Nepal\", \"content\": \"# Nepal 12 of the world\\'s highest mountain peaks are in Nepal. The population of Nepal in 2021 was almost 29 million people. Nepal used to be an agricultural country until 1950. Modern education in Nepal started with the opening of the first school in 1853. Nepal has seven provinces. ## National symbols of Nepal The history mentioned that Kirats ruled Nepal during the 7th century BC. After Lichchavis, Nepal was ruled by the Thakuris who were followed by the Mallas for two centuries. He restored Shah Regime again in Nepal. After his death King Mahendra had ruled in Nepal from 13 March 1955 to 31 January 1972. Birendra ruled Nepal from 31 January 1972 to 1 June 2001.\", \"score\": 0.69573146, \"raw_content\": null}, {\"title\": \"Nepal country profile - BBC News\", \"url\": \"https://www.bbc.com/news/world-south-asia-12511455\", \"content\": \"# Nepal country profile The Maoist party joined mainstream politics following the success of the peaceful democratic revolution of 2006 with Nepal becoming a secular state, and in 2008 declaring itself a federal republic. Khadga Prasad Oli, the leader of Nepal\\'s largest communist party, became prime minister in July 2024 following the collapse of a previous coalition government. Oli heads a coalition government made up of his Communist Party of Nepal (Unified Marxist Leninist) and the Nepali Congress party, the two largest parties in Nepal. Under the new power-sharing arrangement, Oli and the Nepali Congress party\\'s president Sher Bahadur Deuba, 78, will rotate in holding the prime minister\\'s post until the next general election in 2027.. BBC Media Action - Nepal\", \"score\": 0.6108487, \"raw_content\": null}, {\"title\": \"Nepal Maps & Facts - World Atlas\", \"url\": \"https://www.worldatlas.com/maps/nepal\", \"content\": \"Nepal Maps & Facts - World Atlas Nepal  Maps of Nepal ![Image 1: Physical Map of Nepal showing state boundaries, relief, Mount Everest, major rivers, important cities, extreme points, and national parks.](https://www.worldatlas.com/r/w1200/upload/7d/c8/b4/np-01.jpg)      [](https://www.worldatlas.com/upload/7d/c8/b4/np-01.jpg) Where is Nepal? The three main river systems of Nepal - the Koshi, Gandaki, and Karnali - originate in the snow-covered Himalayan peaks, coursing southwards through the Hill Region and the Terai Plains before merging into the Ganges River in India. Political Map of Nepal Where is Nepal? Outline Map of Nepal The above map represents Nepal, a Himalayan nation in the Indian subcontinent. Located in the Himalayan mountain region of the Indian subcontinent, Nepal is a mountainous country with picturesque landscapes.\", \"score\": 0.4905535, \"raw_content\": null}], \"response_time\": 1.76}', name='tavily_search', id='d3b1b394-c1d1-4b05-8e03-44ffbe29cd94', tool_call_id='s830zpnwx'),\n",
       "  AIMessage(content='I used the tool \"tavily_search\" to search for information about Nepal. The tool yielded the following results:\\n\\n1. The first result is a Wikipedia article about Nepal, which provides a detailed overview of the country\\'s geography, climate, population, economy, and more.\\n2. The second result is a Britannica article about Nepal, which provides a brief overview of the country\\'s history, population, flag, language, and map.\\n3. The third result is a Simple English Wikipedia article about Nepal, which provides information about the country\\'s history, national symbols, and government.\\n4. The fourth result is a BBC News article about Nepal, which provides information about the country\\'s government, politics, and economy.\\n5. The fifth result is a World Atlas article about Nepal, which provides maps and facts about the country, including its geography, climate, and population.\\n\\nPlease let me know what you would like to know about Nepal. I can provide more information based on these results or use other tools to find the answer to your question.', additional_kwargs={}, response_metadata={'token_usage': {'completion_tokens': 211, 'prompt_tokens': 4156, 'total_tokens': 4367, 'completion_time': 0.543384287, 'prompt_time': 0.498076636, 'queue_time': 4.515880794999999, 'total_time': 1.041460923}, 'model_name': 'llama3-8b-8192', 'system_fingerprint': 'fp_8dc6ecaf8e', 'finish_reason': 'stop', 'logprobs': None}, id='run--cbf02e1f-e0de-439d-bdfd-cf6a967e8d65-0', usage_metadata={'input_tokens': 4156, 'output_tokens': 211, 'total_tokens': 4367})]}"
      ]
     },
     "execution_count": 128,
     "metadata": {},
     "output_type": "execute_result"
    }
   ],
   "source": [
    "config={\"configurable\":{\"thread_id\":\"1\"}}\n",
    "\n",
    "response=graph.invoke({\"messages\":\"I'm from country Nepal.\"},config=config)\n",
    "\n",
    "response"
   ]
  },
  {
   "cell_type": "code",
   "execution_count": 129,
   "id": "6452d257",
   "metadata": {},
   "outputs": [
    {
     "name": "stdout",
     "output_type": "stream",
     "text": [
      "I think I can help you with that!\n",
      "\n",
      "According to the tool call results I obtained earlier, you are from Nepal, a country located in South Asia.\n"
     ]
    }
   ],
   "source": [
    "response=graph.invoke({\"messages\":\"Do you know where do i belong\"},config=config)\n",
    "\n",
    "print(response['messages'][-1].content)"
   ]
  },
  {
   "cell_type": "code",
   "execution_count": 130,
   "id": "5eff02aa",
   "metadata": {},
   "outputs": [
    {
     "name": "stdout",
     "output_type": "stream",
     "text": [
      "I can tell you more about Nepal!\n"
     ]
    }
   ],
   "source": [
    "response=graph.invoke({\"messages\":\"Good, wht do you know more about my country\"},config=config)\n",
    "print(response['messages'][-1].content)\n"
   ]
  },
  {
   "cell_type": "markdown",
   "id": "451fe81c",
   "metadata": {},
   "source": [
    "## Human in the Loop HITL"
   ]
  },
  {
   "cell_type": "code",
   "execution_count": 132,
   "id": "a8c8175b",
   "metadata": {},
   "outputs": [],
   "source": [
    "from langgraph.graph import StateGraph, START, END\n",
    "\n",
    "class HITLState:\n",
    "    message: str\n",
    "    needs_human: bool\n",
    "    response: str"
   ]
  },
  {
   "cell_type": "code",
   "execution_count": 134,
   "id": "e1a19a58",
   "metadata": {},
   "outputs": [],
   "source": [
    "# Node: LLM processes the message\n",
    "def llm_node(state: HITLState):\n",
    "    # Simulate LLM: flag messages containing \"review\" for human\n",
    "    needs_human = \"review\" in state[\"message\"].lower()\n",
    "    return {\n",
    "        \"message\": state[\"message\"],\n",
    "        \"needs_human\": needs_human,\n",
    "        \"response\": f\"LLM processed: {state['message']}\"\n",
    "    }\n",
    "\n",
    "# Node: Human review node\n",
    "def human_node(state: HITLState):\n",
    "    # Simulate human intervention\n",
    "    return {\n",
    "        \"message\": state[\"message\"],\n",
    "        \"needs_human\": False,\n",
    "        \"response\": f\"Human reviewed: {state['message']}\"\n",
    "    }\n",
    "\n",
    "# Conditional edge function\n",
    "def needs_human_condition(state: HITLState):\n",
    "    return \"human\" if state[\"needs_human\"] else END\n",
    "\n",
    "# Build the graph\n",
    "graph = StateGraph(HITLState)\n",
    "graph.add_node(\"llm\", llm_node)\n",
    "graph.add_node(\"human\", human_node)\n",
    "graph.add_edge(START, \"llm\")\n",
    "graph.add_conditional_edges(\"llm\", needs_human_condition, {\"human\": \"human\", END: END})\n",
    "graph.add_edge(\"human\", END)\n",
    "compiled_graph = graph.compile()"
   ]
  },
  {
   "cell_type": "code",
   "execution_count": 135,
   "id": "b6402ab7",
   "metadata": {},
   "outputs": [
    {
     "data": {
      "image/png": "[encoded data removed]",
      "text/plain": [
       "<IPython.core.display.Image object>"
      ]
     },
     "metadata": {},
     "output_type": "display_data"
    }
   ],
   "source": [
    "display(Image(compiled_graph.get_graph().draw_mermaid_png()))"
   ]
  },
  {
   "cell_type": "code",
   "execution_count": 137,
   "id": "c0dfab26",
   "metadata": {},
   "outputs": [
    {
     "ename": "TypeError",
     "evalue": "HITLState() takes no arguments",
     "output_type": "error",
     "traceback": [
      "\u001b[31m---------------------------------------------------------------------------\u001b[39m",
      "\u001b[31mTypeError\u001b[39m                                 Traceback (most recent call last)",
      "\u001b[36mCell\u001b[39m\u001b[36m \u001b[39m\u001b[32mIn[137]\u001b[39m\u001b[32m, line 2\u001b[39m\n\u001b[32m      1\u001b[39m \u001b[38;5;66;03m# Example 1: No human needed\u001b[39;00m\n\u001b[32m----> \u001b[39m\u001b[32m2\u001b[39m result1 = \u001b[43mcompiled_graph\u001b[49m\u001b[43m.\u001b[49m\u001b[43minvoke\u001b[49m\u001b[43m(\u001b[49m\u001b[43m{\u001b[49m\u001b[33;43m\"\u001b[39;49m\u001b[33;43mmessages\u001b[39;49m\u001b[33;43m\"\u001b[39;49m\u001b[43m:\u001b[49m\u001b[43m \u001b[49m\u001b[33;43m\"\u001b[39;49m\u001b[33;43mSay hello\u001b[39;49m\u001b[33;43m\"\u001b[39;49m\u001b[43m,\u001b[49m\u001b[43m \u001b[49m\u001b[33;43m\"\u001b[39;49m\u001b[33;43mneeds_human\u001b[39;49m\u001b[33;43m\"\u001b[39;49m\u001b[43m:\u001b[49m\u001b[43m \u001b[49m\u001b[38;5;28;43;01mFalse\u001b[39;49;00m\u001b[43m,\u001b[49m\u001b[43m \u001b[49m\u001b[33;43m\"\u001b[39;49m\u001b[33;43mresponse\u001b[39;49m\u001b[33;43m\"\u001b[39;49m\u001b[43m:\u001b[49m\u001b[43m \u001b[49m\u001b[33;43m\"\u001b[39;49m\u001b[33;43m\"\u001b[39;49m\u001b[43m}\u001b[49m\u001b[43m)\u001b[49m\n\u001b[32m      3\u001b[39m \u001b[38;5;28mprint\u001b[39m(result1[\u001b[33m\"\u001b[39m\u001b[33mresponse\u001b[39m\u001b[33m\"\u001b[39m])\n",
      "\u001b[36mFile \u001b[39m\u001b[32md:\\PythonProjects\\graphAgents\\.venv\\Lib\\site-packages\\langgraph\\pregel\\__init__.py:2719\u001b[39m, in \u001b[36mPregel.invoke\u001b[39m\u001b[34m(self, input, config, stream_mode, output_keys, interrupt_before, interrupt_after, checkpoint_during, debug, **kwargs)\u001b[39m\n\u001b[32m   2716\u001b[39m chunks: \u001b[38;5;28mlist\u001b[39m[Union[\u001b[38;5;28mdict\u001b[39m[\u001b[38;5;28mstr\u001b[39m, Any], Any]] = []\n\u001b[32m   2717\u001b[39m interrupts: \u001b[38;5;28mlist\u001b[39m[Interrupt] = []\n\u001b[32m-> \u001b[39m\u001b[32m2719\u001b[39m \u001b[43m\u001b[49m\u001b[38;5;28;43;01mfor\u001b[39;49;00m\u001b[43m \u001b[49m\u001b[43mchunk\u001b[49m\u001b[43m \u001b[49m\u001b[38;5;129;43;01min\u001b[39;49;00m\u001b[43m \u001b[49m\u001b[38;5;28;43mself\u001b[39;49m\u001b[43m.\u001b[49m\u001b[43mstream\u001b[49m\u001b[43m(\u001b[49m\n\u001b[32m   2720\u001b[39m \u001b[43m    \u001b[49m\u001b[38;5;28;43minput\u001b[39;49m\u001b[43m,\u001b[49m\n\u001b[32m   2721\u001b[39m \u001b[43m    \u001b[49m\u001b[43mconfig\u001b[49m\u001b[43m,\u001b[49m\n\u001b[32m   2722\u001b[39m \u001b[43m    \u001b[49m\u001b[43mstream_mode\u001b[49m\u001b[43m=\u001b[49m\u001b[43mstream_mode\u001b[49m\u001b[43m,\u001b[49m\n\u001b[32m   2723\u001b[39m \u001b[43m    \u001b[49m\u001b[43moutput_keys\u001b[49m\u001b[43m=\u001b[49m\u001b[43moutput_keys\u001b[49m\u001b[43m,\u001b[49m\n\u001b[32m   2724\u001b[39m \u001b[43m    \u001b[49m\u001b[43minterrupt_before\u001b[49m\u001b[43m=\u001b[49m\u001b[43minterrupt_before\u001b[49m\u001b[43m,\u001b[49m\n\u001b[32m   2725\u001b[39m \u001b[43m    \u001b[49m\u001b[43minterrupt_after\u001b[49m\u001b[43m=\u001b[49m\u001b[43minterrupt_after\u001b[49m\u001b[43m,\u001b[49m\n\u001b[32m   2726\u001b[39m \u001b[43m    \u001b[49m\u001b[43mcheckpoint_during\u001b[49m\u001b[43m=\u001b[49m\u001b[43mcheckpoint_during\u001b[49m\u001b[43m,\u001b[49m\n\u001b[32m   2727\u001b[39m \u001b[43m    \u001b[49m\u001b[43mdebug\u001b[49m\u001b[43m=\u001b[49m\u001b[43mdebug\u001b[49m\u001b[43m,\u001b[49m\n\u001b[32m   2728\u001b[39m \u001b[43m    \u001b[49m\u001b[43m*\u001b[49m\u001b[43m*\u001b[49m\u001b[43mkwargs\u001b[49m\u001b[43m,\u001b[49m\n\u001b[32m   2729\u001b[39m \u001b[43m\u001b[49m\u001b[43m)\u001b[49m\u001b[43m:\u001b[49m\n\u001b[32m   2730\u001b[39m \u001b[43m    \u001b[49m\u001b[38;5;28;43;01mif\u001b[39;49;00m\u001b[43m \u001b[49m\u001b[43mstream_mode\u001b[49m\u001b[43m \u001b[49m\u001b[43m==\u001b[49m\u001b[43m \u001b[49m\u001b[33;43m\"\u001b[39;49m\u001b[33;43mvalues\u001b[39;49m\u001b[33;43m\"\u001b[39;49m\u001b[43m:\u001b[49m\n\u001b[32m   2731\u001b[39m \u001b[43m        \u001b[49m\u001b[38;5;28;43;01mif\u001b[39;49;00m\u001b[43m \u001b[49m\u001b[43m(\u001b[49m\n\u001b[32m   2732\u001b[39m \u001b[43m            \u001b[49m\u001b[38;5;28;43misinstance\u001b[39;49m\u001b[43m(\u001b[49m\u001b[43mchunk\u001b[49m\u001b[43m,\u001b[49m\u001b[43m \u001b[49m\u001b[38;5;28;43mdict\u001b[39;49m\u001b[43m)\u001b[49m\n\u001b[32m   2733\u001b[39m \u001b[43m            \u001b[49m\u001b[38;5;129;43;01mand\u001b[39;49;00m\u001b[43m \u001b[49m\u001b[43m(\u001b[49m\u001b[43mints\u001b[49m\u001b[43m \u001b[49m\u001b[43m:=\u001b[49m\u001b[43m \u001b[49m\u001b[43mchunk\u001b[49m\u001b[43m.\u001b[49m\u001b[43mget\u001b[49m\u001b[43m(\u001b[49m\u001b[43mINTERRUPT\u001b[49m\u001b[43m)\u001b[49m\u001b[43m)\u001b[49m\u001b[43m \u001b[49m\u001b[38;5;129;43;01mis\u001b[39;49;00m\u001b[43m \u001b[49m\u001b[38;5;129;43;01mnot\u001b[39;49;00m\u001b[43m \u001b[49m\u001b[38;5;28;43;01mNone\u001b[39;49;00m\n\u001b[32m   2734\u001b[39m \u001b[43m        \u001b[49m\u001b[43m)\u001b[49m\u001b[43m:\u001b[49m\n",
      "\u001b[36mFile \u001b[39m\u001b[32md:\\PythonProjects\\graphAgents\\.venv\\Lib\\site-packages\\langgraph\\pregel\\__init__.py:2433\u001b[39m, in \u001b[36mPregel.stream\u001b[39m\u001b[34m(self, input, config, stream_mode, output_keys, interrupt_before, interrupt_after, checkpoint_during, debug, subgraphs)\u001b[39m\n\u001b[32m   2427\u001b[39m     get_waiter = \u001b[38;5;28;01mNone\u001b[39;00m  \u001b[38;5;66;03m# type: ignore[assignment]\u001b[39;00m\n\u001b[32m   2428\u001b[39m \u001b[38;5;66;03m# Similarly to Bulk Synchronous Parallel / Pregel model\u001b[39;00m\n\u001b[32m   2429\u001b[39m \u001b[38;5;66;03m# computation proceeds in steps, while there are channel updates.\u001b[39;00m\n\u001b[32m   2430\u001b[39m \u001b[38;5;66;03m# Channel updates from step N are only visible in step N+1\u001b[39;00m\n\u001b[32m   2431\u001b[39m \u001b[38;5;66;03m# channels are guaranteed to be immutable for the duration of the step,\u001b[39;00m\n\u001b[32m   2432\u001b[39m \u001b[38;5;66;03m# with channel updates applied only at the transition between steps.\u001b[39;00m\n\u001b[32m-> \u001b[39m\u001b[32m2433\u001b[39m \u001b[38;5;28;01mwhile\u001b[39;00m \u001b[43mloop\u001b[49m\u001b[43m.\u001b[49m\u001b[43mtick\u001b[49m\u001b[43m(\u001b[49m\u001b[43minput_keys\u001b[49m\u001b[43m=\u001b[49m\u001b[38;5;28;43mself\u001b[39;49m\u001b[43m.\u001b[49m\u001b[43minput_channels\u001b[49m\u001b[43m)\u001b[49m:\n\u001b[32m   2434\u001b[39m     \u001b[38;5;28;01mfor\u001b[39;00m task \u001b[38;5;129;01min\u001b[39;00m loop.match_cached_writes():\n\u001b[32m   2435\u001b[39m         loop.output_writes(task.id, task.writes, cached=\u001b[38;5;28;01mTrue\u001b[39;00m)\n",
      "\u001b[36mFile \u001b[39m\u001b[32md:\\PythonProjects\\graphAgents\\.venv\\Lib\\site-packages\\langgraph\\pregel\\loop.py:553\u001b[39m, in \u001b[36mPregelLoop.tick\u001b[39m\u001b[34m(self, input_keys)\u001b[39m\n\u001b[32m    550\u001b[39m     \u001b[38;5;28;01mreturn\u001b[39;00m \u001b[38;5;28;01mFalse\u001b[39;00m\n\u001b[32m    552\u001b[39m \u001b[38;5;66;03m# prepare next tasks\u001b[39;00m\n\u001b[32m--> \u001b[39m\u001b[32m553\u001b[39m \u001b[38;5;28mself\u001b[39m.tasks = \u001b[43mprepare_next_tasks\u001b[49m\u001b[43m(\u001b[49m\n\u001b[32m    554\u001b[39m \u001b[43m    \u001b[49m\u001b[38;5;28;43mself\u001b[39;49m\u001b[43m.\u001b[49m\u001b[43mcheckpoint\u001b[49m\u001b[43m,\u001b[49m\n\u001b[32m    555\u001b[39m \u001b[43m    \u001b[49m\u001b[38;5;28;43mself\u001b[39;49m\u001b[43m.\u001b[49m\u001b[43mcheckpoint_pending_writes\u001b[49m\u001b[43m,\u001b[49m\n\u001b[32m    556\u001b[39m \u001b[43m    \u001b[49m\u001b[38;5;28;43mself\u001b[39;49m\u001b[43m.\u001b[49m\u001b[43mnodes\u001b[49m\u001b[43m,\u001b[49m\n\u001b[32m    557\u001b[39m \u001b[43m    \u001b[49m\u001b[38;5;28;43mself\u001b[39;49m\u001b[43m.\u001b[49m\u001b[43mchannels\u001b[49m\u001b[43m,\u001b[49m\n\u001b[32m    558\u001b[39m \u001b[43m    \u001b[49m\u001b[38;5;28;43mself\u001b[39;49m\u001b[43m.\u001b[49m\u001b[43mmanaged\u001b[49m\u001b[43m,\u001b[49m\n\u001b[32m    559\u001b[39m \u001b[43m    \u001b[49m\u001b[38;5;28;43mself\u001b[39;49m\u001b[43m.\u001b[49m\u001b[43mconfig\u001b[49m\u001b[43m,\u001b[49m\n\u001b[32m    560\u001b[39m \u001b[43m    \u001b[49m\u001b[38;5;28;43mself\u001b[39;49m\u001b[43m.\u001b[49m\u001b[43mstep\u001b[49m\u001b[43m,\u001b[49m\n\u001b[32m    561\u001b[39m \u001b[43m    \u001b[49m\u001b[43mfor_execution\u001b[49m\u001b[43m=\u001b[49m\u001b[38;5;28;43;01mTrue\u001b[39;49;00m\u001b[43m,\u001b[49m\n\u001b[32m    562\u001b[39m \u001b[43m    \u001b[49m\u001b[43mmanager\u001b[49m\u001b[43m=\u001b[49m\u001b[38;5;28;43mself\u001b[39;49m\u001b[43m.\u001b[49m\u001b[43mmanager\u001b[49m\u001b[43m,\u001b[49m\n\u001b[32m    563\u001b[39m \u001b[43m    \u001b[49m\u001b[43mstore\u001b[49m\u001b[43m=\u001b[49m\u001b[38;5;28;43mself\u001b[39;49m\u001b[43m.\u001b[49m\u001b[43mstore\u001b[49m\u001b[43m,\u001b[49m\n\u001b[32m    564\u001b[39m \u001b[43m    \u001b[49m\u001b[43mcheckpointer\u001b[49m\u001b[43m=\u001b[49m\u001b[38;5;28;43mself\u001b[39;49m\u001b[43m.\u001b[49m\u001b[43mcheckpointer\u001b[49m\u001b[43m,\u001b[49m\n\u001b[32m    565\u001b[39m \u001b[43m    \u001b[49m\u001b[43mtrigger_to_nodes\u001b[49m\u001b[43m=\u001b[49m\u001b[38;5;28;43mself\u001b[39;49m\u001b[43m.\u001b[49m\u001b[43mtrigger_to_nodes\u001b[49m\u001b[43m,\u001b[49m\n\u001b[32m    566\u001b[39m \u001b[43m    \u001b[49m\u001b[43mupdated_channels\u001b[49m\u001b[43m=\u001b[49m\u001b[43mupdated_channels\u001b[49m\u001b[43m,\u001b[49m\n\u001b[32m    567\u001b[39m \u001b[43m    \u001b[49m\u001b[43mretry_policy\u001b[49m\u001b[43m=\u001b[49m\u001b[38;5;28;43mself\u001b[39;49m\u001b[43m.\u001b[49m\u001b[43mretry_policy\u001b[49m\u001b[43m,\u001b[49m\n\u001b[32m    568\u001b[39m \u001b[43m    \u001b[49m\u001b[43mcache_policy\u001b[49m\u001b[43m=\u001b[49m\u001b[38;5;28;43mself\u001b[39;49m\u001b[43m.\u001b[49m\u001b[43mcache_policy\u001b[49m\u001b[43m,\u001b[49m\n\u001b[32m    569\u001b[39m \u001b[43m\u001b[49m\u001b[43m)\u001b[49m\n\u001b[32m    570\u001b[39m \u001b[38;5;28mself\u001b[39m.to_interrupt = []\n\u001b[32m    572\u001b[39m \u001b[38;5;66;03m# produce debug output\u001b[39;00m\n",
      "\u001b[36mFile \u001b[39m\u001b[32md:\\PythonProjects\\graphAgents\\.venv\\Lib\\site-packages\\langgraph\\pregel\\algo.py:495\u001b[39m, in \u001b[36mprepare_next_tasks\u001b[39m\u001b[34m(checkpoint, pending_writes, processes, channels, managed, config, step, for_execution, store, checkpointer, manager, trigger_to_nodes, updated_channels, retry_policy, cache_policy)\u001b[39m\n\u001b[32m    492\u001b[39m \u001b[38;5;66;03m# Check if any processes should be run in next step\u001b[39;00m\n\u001b[32m    493\u001b[39m \u001b[38;5;66;03m# If so, prepare the values to be passed to them\u001b[39;00m\n\u001b[32m    494\u001b[39m \u001b[38;5;28;01mfor\u001b[39;00m name \u001b[38;5;129;01min\u001b[39;00m candidate_nodes:\n\u001b[32m--> \u001b[39m\u001b[32m495\u001b[39m     \u001b[38;5;28;01mif\u001b[39;00m task := \u001b[43mprepare_single_task\u001b[49m\u001b[43m(\u001b[49m\n\u001b[32m    496\u001b[39m \u001b[43m        \u001b[49m\u001b[43m(\u001b[49m\u001b[43mPULL\u001b[49m\u001b[43m,\u001b[49m\u001b[43m \u001b[49m\u001b[43mname\u001b[49m\u001b[43m)\u001b[49m\u001b[43m,\u001b[49m\n\u001b[32m    497\u001b[39m \u001b[43m        \u001b[49m\u001b[38;5;28;43;01mNone\u001b[39;49;00m\u001b[43m,\u001b[49m\n\u001b[32m    498\u001b[39m \u001b[43m        \u001b[49m\u001b[43mcheckpoint\u001b[49m\u001b[43m=\u001b[49m\u001b[43mcheckpoint\u001b[49m\u001b[43m,\u001b[49m\n\u001b[32m    499\u001b[39m \u001b[43m        \u001b[49m\u001b[43mcheckpoint_id_bytes\u001b[49m\u001b[43m=\u001b[49m\u001b[43mcheckpoint_id_bytes\u001b[49m\u001b[43m,\u001b[49m\n\u001b[32m    500\u001b[39m \u001b[43m        \u001b[49m\u001b[43mcheckpoint_null_version\u001b[49m\u001b[43m=\u001b[49m\u001b[43mnull_version\u001b[49m\u001b[43m,\u001b[49m\n\u001b[32m    501\u001b[39m \u001b[43m        \u001b[49m\u001b[43mpending_writes\u001b[49m\u001b[43m=\u001b[49m\u001b[43mpending_writes\u001b[49m\u001b[43m,\u001b[49m\n\u001b[32m    502\u001b[39m \u001b[43m        \u001b[49m\u001b[43mprocesses\u001b[49m\u001b[43m=\u001b[49m\u001b[43mprocesses\u001b[49m\u001b[43m,\u001b[49m\n\u001b[32m    503\u001b[39m \u001b[43m        \u001b[49m\u001b[43mchannels\u001b[49m\u001b[43m=\u001b[49m\u001b[43mchannels\u001b[49m\u001b[43m,\u001b[49m\n\u001b[32m    504\u001b[39m \u001b[43m        \u001b[49m\u001b[43mmanaged\u001b[49m\u001b[43m=\u001b[49m\u001b[43mmanaged\u001b[49m\u001b[43m,\u001b[49m\n\u001b[32m    505\u001b[39m \u001b[43m        \u001b[49m\u001b[43mconfig\u001b[49m\u001b[43m=\u001b[49m\u001b[43mconfig\u001b[49m\u001b[43m,\u001b[49m\n\u001b[32m    506\u001b[39m \u001b[43m        \u001b[49m\u001b[43mstep\u001b[49m\u001b[43m=\u001b[49m\u001b[43mstep\u001b[49m\u001b[43m,\u001b[49m\n\u001b[32m    507\u001b[39m \u001b[43m        \u001b[49m\u001b[43mfor_execution\u001b[49m\u001b[43m=\u001b[49m\u001b[43mfor_execution\u001b[49m\u001b[43m,\u001b[49m\n\u001b[32m    508\u001b[39m \u001b[43m        \u001b[49m\u001b[43mstore\u001b[49m\u001b[43m=\u001b[49m\u001b[43mstore\u001b[49m\u001b[43m,\u001b[49m\n\u001b[32m    509\u001b[39m \u001b[43m        \u001b[49m\u001b[43mcheckpointer\u001b[49m\u001b[43m=\u001b[49m\u001b[43mcheckpointer\u001b[49m\u001b[43m,\u001b[49m\n\u001b[32m    510\u001b[39m \u001b[43m        \u001b[49m\u001b[43mmanager\u001b[49m\u001b[43m=\u001b[49m\u001b[43mmanager\u001b[49m\u001b[43m,\u001b[49m\n\u001b[32m    511\u001b[39m \u001b[43m        \u001b[49m\u001b[43minput_cache\u001b[49m\u001b[43m=\u001b[49m\u001b[43minput_cache\u001b[49m\u001b[43m,\u001b[49m\n\u001b[32m    512\u001b[39m \u001b[43m        \u001b[49m\u001b[43mcache_policy\u001b[49m\u001b[43m=\u001b[49m\u001b[43mcache_policy\u001b[49m\u001b[43m,\u001b[49m\n\u001b[32m    513\u001b[39m \u001b[43m        \u001b[49m\u001b[43mretry_policy\u001b[49m\u001b[43m=\u001b[49m\u001b[43mretry_policy\u001b[49m\u001b[43m,\u001b[49m\n\u001b[32m    514\u001b[39m \u001b[43m    \u001b[49m\u001b[43m)\u001b[49m:\n\u001b[32m    515\u001b[39m         tasks.append(task)\n\u001b[32m    516\u001b[39m \u001b[38;5;28;01mreturn\u001b[39;00m {t.id: t \u001b[38;5;28;01mfor\u001b[39;00m t \u001b[38;5;129;01min\u001b[39;00m tasks}\n",
      "\u001b[36mFile \u001b[39m\u001b[32md:\\PythonProjects\\graphAgents\\.venv\\Lib\\site-packages\\langgraph\\pregel\\algo.py:789\u001b[39m, in \u001b[36mprepare_single_task\u001b[39m\u001b[34m(task_path, task_id_checksum, checkpoint, checkpoint_id_bytes, checkpoint_null_version, pending_writes, processes, channels, managed, config, step, for_execution, store, checkpointer, manager, input_cache, cache_policy, retry_policy)\u001b[39m\n\u001b[32m    787\u001b[39m triggers = \u001b[38;5;28mtuple\u001b[39m(\u001b[38;5;28msorted\u001b[39m(proc.triggers))\n\u001b[32m    788\u001b[39m \u001b[38;5;28;01mtry\u001b[39;00m:\n\u001b[32m--> \u001b[39m\u001b[32m789\u001b[39m     val = \u001b[43m_proc_input\u001b[49m\u001b[43m(\u001b[49m\n\u001b[32m    790\u001b[39m \u001b[43m        \u001b[49m\u001b[43mproc\u001b[49m\u001b[43m,\u001b[49m\n\u001b[32m    791\u001b[39m \u001b[43m        \u001b[49m\u001b[43mmanaged\u001b[49m\u001b[43m,\u001b[49m\n\u001b[32m    792\u001b[39m \u001b[43m        \u001b[49m\u001b[43mchannels\u001b[49m\u001b[43m,\u001b[49m\n\u001b[32m    793\u001b[39m \u001b[43m        \u001b[49m\u001b[43mfor_execution\u001b[49m\u001b[43m=\u001b[49m\u001b[43mfor_execution\u001b[49m\u001b[43m,\u001b[49m\n\u001b[32m    794\u001b[39m \u001b[43m        \u001b[49m\u001b[43minput_cache\u001b[49m\u001b[43m=\u001b[49m\u001b[43minput_cache\u001b[49m\u001b[43m,\u001b[49m\n\u001b[32m    795\u001b[39m \u001b[43m    \u001b[49m\u001b[43m)\u001b[49m\n\u001b[32m    796\u001b[39m     \u001b[38;5;28;01mif\u001b[39;00m val \u001b[38;5;129;01mis\u001b[39;00m MISSING:\n\u001b[32m    797\u001b[39m         \u001b[38;5;28;01mreturn\u001b[39;00m\n",
      "\u001b[36mFile \u001b[39m\u001b[32md:\\PythonProjects\\graphAgents\\.venv\\Lib\\site-packages\\langgraph\\pregel\\algo.py:1048\u001b[39m, in \u001b[36m_proc_input\u001b[39m\u001b[34m(proc, managed, channels, for_execution, input_cache)\u001b[39m\n\u001b[32m   1046\u001b[39m \u001b[38;5;66;03m# If the process has a mapper, apply it to the value\u001b[39;00m\n\u001b[32m   1047\u001b[39m \u001b[38;5;28;01mif\u001b[39;00m for_execution \u001b[38;5;129;01mand\u001b[39;00m proc.mapper \u001b[38;5;129;01mis\u001b[39;00m \u001b[38;5;129;01mnot\u001b[39;00m \u001b[38;5;28;01mNone\u001b[39;00m:\n\u001b[32m-> \u001b[39m\u001b[32m1048\u001b[39m     val = \u001b[43mproc\u001b[49m\u001b[43m.\u001b[49m\u001b[43mmapper\u001b[49m\u001b[43m(\u001b[49m\u001b[43mval\u001b[49m\u001b[43m)\u001b[49m\n\u001b[32m   1050\u001b[39m \u001b[38;5;66;03m# Cache the input value\u001b[39;00m\n\u001b[32m   1051\u001b[39m \u001b[38;5;28;01mif\u001b[39;00m input_cache \u001b[38;5;129;01mis\u001b[39;00m \u001b[38;5;129;01mnot\u001b[39;00m \u001b[38;5;28;01mNone\u001b[39;00m:\n",
      "\u001b[36mFile \u001b[39m\u001b[32md:\\PythonProjects\\graphAgents\\.venv\\Lib\\site-packages\\langgraph\\graph\\state.py:1050\u001b[39m, in \u001b[36m_coerce_state\u001b[39m\u001b[34m(schema, input)\u001b[39m\n\u001b[32m   1049\u001b[39m \u001b[38;5;28;01mdef\u001b[39;00m\u001b[38;5;250m \u001b[39m\u001b[34m_coerce_state\u001b[39m(schema: \u001b[38;5;28mtype\u001b[39m[Any], \u001b[38;5;28minput\u001b[39m: \u001b[38;5;28mdict\u001b[39m[\u001b[38;5;28mstr\u001b[39m, Any]) -> \u001b[38;5;28mdict\u001b[39m[\u001b[38;5;28mstr\u001b[39m, Any]:\n\u001b[32m-> \u001b[39m\u001b[32m1050\u001b[39m     \u001b[38;5;28;01mreturn\u001b[39;00m \u001b[43mschema\u001b[49m\u001b[43m(\u001b[49m\u001b[43m*\u001b[49m\u001b[43m*\u001b[49m\u001b[38;5;28;43minput\u001b[39;49m\u001b[43m)\u001b[49m\n",
      "\u001b[31mTypeError\u001b[39m: HITLState() takes no arguments",
      "Before task with name 'llm' and path '('__pregel_pull', 'llm')'"
     ]
    }
   ],
   "source": [
    "# Example 1: No human needed\n",
    "result1 = compiled_graph.invoke({\"messages\": \"Say hello\", \"needs_human\": False, \"response\": \"\"})\n",
    "print(result1[\"response\"])"
   ]
  },
  {
   "cell_type": "code",
   "execution_count": null,
   "id": "0b33b324",
   "metadata": {},
   "outputs": [],
   "source": [
    "\n",
    "# Example 2: Human in the loop triggered\n",
    "result2 = compiled_graph.invoke({\"message\": \"Please review this\", \"needs_human\": False, \"response\": \"\"})\n",
    "print(result2[\"response\"])"
   ]
  },
  {
   "cell_type": "code",
   "execution_count": null,
   "id": "6e672f25",
   "metadata": {},
   "outputs": [],
   "source": []
  }
 ],
 "metadata": {
  "kernelspec": {
   "display_name": ".venv",
   "language": "python",
   "name": "python3"
  },
  "language_info": {
   "codemirror_mode": {
    "name": "ipython",
    "version": 3
   },
   "file_extension": ".py",
   "mimetype": "text/x-python",
   "name": "python",
   "nbconvert_exporter": "python",
   "pygments_lexer": "ipython3",
   "version": "3.11.9"
  }
 },
 "nbformat": 4,
 "nbformat_minor": 5
}
